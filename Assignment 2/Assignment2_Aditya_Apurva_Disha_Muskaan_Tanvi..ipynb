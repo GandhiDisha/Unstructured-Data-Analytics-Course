{
 "cells": [
  {
   "cell_type": "code",
   "execution_count": null,
   "id": "84020db0",
   "metadata": {},
   "outputs": [],
   "source": [
    "!conda install selenium\n",
    "!conda install -c conda-forge vadersentiment\n",
    "!conda install -U spacy\n",
    "!python -m spacy download en_core_web_md\n",
    "sys.path.insert(0,'/usr/lib/chromium-browser/chromedriver')\n",
    "nltk.download('punkt')\n",
    "nltk.download('wordnet')\n",
    "nltk.download('omw-1.4')\n",
    "nltk.download('stopwords')"
   ]
  },
  {
   "cell_type": "code",
   "execution_count": 1,
   "id": "0b88cdc3",
   "metadata": {},
   "outputs": [],
   "source": [
    "import sys\n",
    "from selenium import webdriver\n",
    "from selenium.webdriver.common.by import By\n",
    "import re\n",
    "import nltk\n",
    "from nltk.tokenize import RegexpTokenizer, word_tokenize\n",
    "from collections import Counter\n",
    "from scipy.stats import zipf\n",
    "from nltk.corpus import stopwords\n",
    "from nltk.stem import WordNetLemmatizer\n",
    "from nltk.corpus import stopwords, wordnet\n",
    "import pandas as pd\n",
    "from numpy.linalg import norm\n",
    "from math import log\n",
    "import numpy as np\n",
    "import seaborn as sns\n",
    "import spacy\n",
    "import matplotlib.pyplot as plt\n",
    "from sklearn.metrics.pairwise import cosine_similarity\n",
    "from sklearn.feature_extraction.text import TfidfVectorizer\n",
    "from vaderSentiment.vaderSentiment  import  SentimentIntensityAnalyzer\n",
    "stopwords = stopwords.words('english')"
   ]
  },
  {
   "cell_type": "code",
   "execution_count": null,
   "id": "fb0b6125",
   "metadata": {
    "colab": {
     "base_uri": "https://localhost:8080/"
    },
    "executionInfo": {
     "elapsed": 16506,
     "status": "ok",
     "timestamp": 1664103612077,
     "user": {
      "displayName": "aditya nvs",
      "userId": "12756288402464343341"
     },
     "user_tz": 300
    },
    "id": "e160c3c8",
    "outputId": "79b3d55c-43f9-4c41-c35b-0522df348275"
   },
   "outputs": [],
   "source": [
    "#WebDriver is a browser automation framework that works with open source APIs. \n",
    "#The framework operates by accepting commands, sending those commands to a browser, and interacting with applications.\n",
    "chrome_options = webdriver.ChromeOptions()\n",
    "#headless means running chrome with chrome.exe\n",
    "chrome_options.add_argument('--headless')\n",
    "\n",
    "chrome_options.add_argument('--no-sandbox')\n",
    "chrome_options.add_argument('--disable-dev-shm-usage')"
   ]
  },
  {
   "cell_type": "markdown",
   "id": "38e20a56",
   "metadata": {
    "id": "i0LIvPYuTjRI"
   },
   "source": [
    "TASK-A"
   ]
  },
  {
   "cell_type": "code",
   "execution_count": null,
   "id": "88d8c673",
   "metadata": {
    "id": "2cd3375f",
    "outputId": "1947dac0-434c-41db-f54f-a887fccc0222"
   },
   "outputs": [],
   "source": [
    "wd = webdriver.Chrome('C:/Users/HP/Downloads/chromedriver_win32/chromedriver',options=chrome_options)\n",
    "childWd = webdriver.Chrome('C:/Users/HP/Downloads/chromedriver_win32/chromedriver',options=chrome_options)\n",
    "mainUrl = \"https://www.beeradvocate.com/beer/{}/\""
   ]
  },
  {
   "cell_type": "code",
   "execution_count": null,
   "id": "bb2e18f2",
   "metadata": {
    "id": "4a7dbfd9"
   },
   "outputs": [],
   "source": [
    "def crawler(category):\n",
    "    pageDf = pd.DataFrame(columns=['product_name','product_review','user_rating'])\n",
    "    wd.get(mainUrl.format(category))\n",
    "    tableElement = wd.find_element(by=By.XPATH,value='//*[@id=\"ba-content\"]/table/tbody')\n",
    "    rowElements = tableElement.find_elements(by=By.TAG_NAME,value='tr')\n",
    "    print(\"Scraping comments for url {}\".format(mainUrl.format(category)))\n",
    "    \n",
    "    #Actual table rows start from 2nd row\n",
    "    for index,row in enumerate(rowElements[1:]):\n",
    "        print(\"Scraping Table row : {}\".format(index))\n",
    "        link = row.find_element(by=By.TAG_NAME,value='a')\n",
    "        linkUrl = link.get_attribute('href')\n",
    "        childWd.get(linkUrl)\n",
    "        el = childWd.find_element(by=By.XPATH,value='//*[@id=\"rating_fullview\"]')\n",
    "        comments = el.find_elements(by=By.CLASS_NAME,value='user-comment')\n",
    "        for comment in comments:\n",
    "            reviewContent = comment.find_element(by=By.CLASS_NAME,value='muted')\n",
    "            if(reviewContent.text.startswith('Reviewed')):\n",
    "                userRating = float(comment.find_element(by=By.CLASS_NAME,value='BAscore_norm').text)\n",
    "                commentTags = comment.find_elements(by=By.TAG_NAME,value='div')\n",
    "                userComment = commentTags[len(commentTags)-1].text\n",
    "                pageDf.loc[len(pageDf.index)] = [link.text,userComment,userRating]\n",
    "    return pageDf"
   ]
  },
  {
   "cell_type": "code",
   "execution_count": null,
   "id": "b4124566",
   "metadata": {
    "id": "0f9ce668",
    "outputId": "3f09f940-3931-4526-9ba5-d9e686964091"
   },
   "outputs": [],
   "source": [
    "topRatedDf.head(5)"
   ]
  },
  {
   "cell_type": "code",
   "execution_count": null,
   "id": "59bd4697",
   "metadata": {
    "id": "a9d6a293",
    "outputId": "0308f945-936e-401f-a47b-0f4702545480"
   },
   "outputs": [],
   "source": [
    "topNewDf = pd.read_csv('./BeerCommentsUpdated.csv')\n",
    "mergeDf = pd.concat([topRatedDf,topNewDf])\n",
    "mergeDf.head(5)"
   ]
  },
  {
   "cell_type": "code",
   "execution_count": null,
   "id": "5b57caa0",
   "metadata": {
    "id": "cefb46e0"
   },
   "outputs": [],
   "source": [
    "mergeDf.to_csv('NewAndTopRated.csv',index=False)"
   ]
  },
  {
   "cell_type": "code",
   "execution_count": null,
   "id": "534cba39",
   "metadata": {
    "id": "3d6316de",
    "outputId": "86711627-8222-478e-c2c2-c4d63e0c7707"
   },
   "outputs": [],
   "source": [
    "trendingDf = crawler('trending')"
   ]
  },
  {
   "cell_type": "code",
   "execution_count": null,
   "id": "ae9bc48e",
   "metadata": {
    "id": "685c895f",
    "outputId": "47d9a0ac-a149-4590-c7a1-d0e4de670299"
   },
   "outputs": [],
   "source": [
    "len(trendingDf)"
   ]
  },
  {
   "cell_type": "code",
   "execution_count": null,
   "id": "38ba8b64",
   "metadata": {
    "id": "be0e981b",
    "outputId": "2c4f42a1-aa25-47d6-ec84-1d5428ae5b07"
   },
   "outputs": [],
   "source": [
    "mergeDfTrending = pd.concat([mergeDf,trendingDf])\n",
    "mergeDfTrending.drop_duplicates()"
   ]
  },
  {
   "cell_type": "code",
   "execution_count": null,
   "id": "d33b2cbb",
   "metadata": {
    "id": "c29305c8",
    "outputId": "4d833dbe-2935-4716-8d64-29963f11b069"
   },
   "outputs": [],
   "source": [
    "topNewDf = crawler('top-new')"
   ]
  },
  {
   "cell_type": "code",
   "execution_count": null,
   "id": "d649911c",
   "metadata": {
    "id": "a35aa19e",
    "outputId": "8f0c4b63-fa89-4100-d01d-5971f79f76b9"
   },
   "outputs": [],
   "source": [
    "popularDf = crawler('popular')"
   ]
  },
  {
   "cell_type": "code",
   "execution_count": null,
   "id": "2b39c4b9",
   "metadata": {
    "id": "57ecfbc7",
    "outputId": "25a38b1d-a67c-4571-fc44-01f984f88f40"
   },
   "outputs": [],
   "source": [
    "len(popularDf)\n",
    "mergeDfPopular = pd.concat([mergeDfTrending,popularDf])\n",
    "mergeDfPopular.drop_duplicates()"
   ]
  },
  {
   "cell_type": "code",
   "execution_count": null,
   "id": "aa7dcb30",
   "metadata": {
    "id": "9cbbf737"
   },
   "outputs": [],
   "source": [
    "mergeFinal = pd.concat([topRatedDf,popularDf,trendingDf])\n",
    "mergeFinal.drop_duplicates().to_csv('FinalData.csv',index=False)"
   ]
  },
  {
   "cell_type": "code",
   "execution_count": null,
   "id": "918ce5a3",
   "metadata": {
    "id": "4f2174e9",
    "outputId": "4d5a479b-c95c-4dcd-c760-6ea0fd33a235"
   },
   "outputs": [],
   "source": [
    "mergeFinal = mergeFinal.drop_duplicates()\n",
    "mergeFinal"
   ]
  },
  {
   "cell_type": "markdown",
   "id": "e782ba56",
   "metadata": {
    "id": "fa3829d1"
   },
   "source": [
    "### TASK-B"
   ]
  },
  {
   "cell_type": "markdown",
   "id": "b665d26c",
   "metadata": {},
   "source": [
    "#### Use the above attributes as examples only, for a word frequency analysis of beer reviews is a better way to find important attributes in the actual data. \n",
    "#### Assume that a customer has specified three attributes of the product as being important to him or her. "
   ]
  },
  {
   "cell_type": "code",
   "execution_count": 267,
   "id": "7ec7c6be",
   "metadata": {
    "colab": {
     "base_uri": "https://localhost:8080/"
    },
    "executionInfo": {
     "elapsed": 1468,
     "status": "ok",
     "timestamp": 1664104301238,
     "user": {
      "displayName": "aditya nvs",
      "userId": "12756288402464343341"
     },
     "user_tz": 300
    },
    "id": "fc1b9dac",
    "outputId": "7a09f3d2-c96f-48fc-9960-e107ba9c403e"
   },
   "outputs": [],
   "source": [
    "# drive.mount('/content/gdrive')\n",
    "\n",
    "beer_reviews = pd.read_csv('ScraperData.csv')"
   ]
  },
  {
   "cell_type": "code",
   "execution_count": 268,
   "id": "c0261a91",
   "metadata": {
    "colab": {
     "base_uri": "https://localhost:8080/",
     "height": 424
    },
    "executionInfo": {
     "elapsed": 1491,
     "status": "ok",
     "timestamp": 1664104305438,
     "user": {
      "displayName": "aditya nvs",
      "userId": "12756288402464343341"
     },
     "user_tz": 300
    },
    "id": "9381bb91",
    "outputId": "9e7620dc-9ba8-40ff-c810-41aeaaa98fe8"
   },
   "outputs": [
    {
     "data": {
      "text/html": [
       "<div>\n",
       "<style scoped>\n",
       "    .dataframe tbody tr th:only-of-type {\n",
       "        vertical-align: middle;\n",
       "    }\n",
       "\n",
       "    .dataframe tbody tr th {\n",
       "        vertical-align: top;\n",
       "    }\n",
       "\n",
       "    .dataframe thead th {\n",
       "        text-align: right;\n",
       "    }\n",
       "</style>\n",
       "<table border=\"1\" class=\"dataframe\">\n",
       "  <thead>\n",
       "    <tr style=\"text-align: right;\">\n",
       "      <th></th>\n",
       "      <th>product_name</th>\n",
       "      <th>product_review</th>\n",
       "      <th>user_rating</th>\n",
       "    </tr>\n",
       "  </thead>\n",
       "  <tbody>\n",
       "    <tr>\n",
       "      <th>0</th>\n",
       "      <td>Kentucky Brunch Brand Stout</td>\n",
       "      <td>i didnt think i was going to give it a perfect...</td>\n",
       "      <td>5.00</td>\n",
       "    </tr>\n",
       "    <tr>\n",
       "      <th>1</th>\n",
       "      <td>Kentucky Brunch Brand Stout</td>\n",
       "      <td>so i just read a review that called the legend...</td>\n",
       "      <td>3.79</td>\n",
       "    </tr>\n",
       "    <tr>\n",
       "      <th>2</th>\n",
       "      <td>Kentucky Brunch Brand Stout</td>\n",
       "      <td>2021 vintage bottle 79 holy fucking shit kbbs ...</td>\n",
       "      <td>4.64</td>\n",
       "    </tr>\n",
       "    <tr>\n",
       "      <th>3</th>\n",
       "      <td>Kentucky Brunch Brand Stout</td>\n",
       "      <td>celebrating my buddy rug with his 1000th beer ...</td>\n",
       "      <td>4.27</td>\n",
       "    </tr>\n",
       "    <tr>\n",
       "      <th>4</th>\n",
       "      <td>Kentucky Brunch Brand Stout</td>\n",
       "      <td>thick and syrupy pour mocha head aroma is booz...</td>\n",
       "      <td>4.79</td>\n",
       "    </tr>\n",
       "    <tr>\n",
       "      <th>...</th>\n",
       "      <td>...</td>\n",
       "      <td>...</td>\n",
       "      <td>...</td>\n",
       "    </tr>\n",
       "    <tr>\n",
       "      <th>5721</th>\n",
       "      <td>Bottle Shop Series #2: Highball Drifter</td>\n",
       "      <td>pours a clear brown with a ruby tint thin offw...</td>\n",
       "      <td>4.51</td>\n",
       "    </tr>\n",
       "    <tr>\n",
       "      <th>5722</th>\n",
       "      <td>Bottle Shop Series #2: Highball Drifter</td>\n",
       "      <td>a moderate pour into a pint glass yielded a fi...</td>\n",
       "      <td>4.44</td>\n",
       "    </tr>\n",
       "    <tr>\n",
       "      <th>5723</th>\n",
       "      <td>Bottle Shop Series #2: Highball Drifter</td>\n",
       "      <td>12 oz bottle born on 7721 poured into a founde...</td>\n",
       "      <td>4.50</td>\n",
       "    </tr>\n",
       "    <tr>\n",
       "      <th>5724</th>\n",
       "      <td>Bottle Shop Series #2: Highball Drifter</td>\n",
       "      <td>from the growler in a snifter via country fres...</td>\n",
       "      <td>4.21</td>\n",
       "    </tr>\n",
       "    <tr>\n",
       "      <th>5725</th>\n",
       "      <td>Bottle Shop Series #2: Highball Drifter</td>\n",
       "      <td>look resembles a red ale liquid dense off whit...</td>\n",
       "      <td>4.20</td>\n",
       "    </tr>\n",
       "  </tbody>\n",
       "</table>\n",
       "<p>5726 rows × 3 columns</p>\n",
       "</div>"
      ],
      "text/plain": [
       "                                 product_name  \\\n",
       "0                 Kentucky Brunch Brand Stout   \n",
       "1                 Kentucky Brunch Brand Stout   \n",
       "2                 Kentucky Brunch Brand Stout   \n",
       "3                 Kentucky Brunch Brand Stout   \n",
       "4                 Kentucky Brunch Brand Stout   \n",
       "...                                       ...   \n",
       "5721  Bottle Shop Series #2: Highball Drifter   \n",
       "5722  Bottle Shop Series #2: Highball Drifter   \n",
       "5723  Bottle Shop Series #2: Highball Drifter   \n",
       "5724  Bottle Shop Series #2: Highball Drifter   \n",
       "5725  Bottle Shop Series #2: Highball Drifter   \n",
       "\n",
       "                                         product_review  user_rating  \n",
       "0     i didnt think i was going to give it a perfect...         5.00  \n",
       "1     so i just read a review that called the legend...         3.79  \n",
       "2     2021 vintage bottle 79 holy fucking shit kbbs ...         4.64  \n",
       "3     celebrating my buddy rug with his 1000th beer ...         4.27  \n",
       "4     thick and syrupy pour mocha head aroma is booz...         4.79  \n",
       "...                                                 ...          ...  \n",
       "5721  pours a clear brown with a ruby tint thin offw...         4.51  \n",
       "5722  a moderate pour into a pint glass yielded a fi...         4.44  \n",
       "5723  12 oz bottle born on 7721 poured into a founde...         4.50  \n",
       "5724  from the growler in a snifter via country fres...         4.21  \n",
       "5725  look resembles a red ale liquid dense off whit...         4.20  \n",
       "\n",
       "[5726 rows x 3 columns]"
      ]
     },
     "execution_count": 268,
     "metadata": {},
     "output_type": "execute_result"
    }
   ],
   "source": [
    "#Removing special character\n",
    "beer_reviews['product_review'] = beer_reviews.apply(lambda x: re.sub(\"([!\\\"$%&\\'()*+,-./:;<=>?[\\\\]^_`{|}~•@#']+)\",'',x['product_review']),axis=1)\n",
    "#Removing extra lines\n",
    "beer_reviews['product_review'] = beer_reviews.apply(lambda x: x['product_review'].replace('\\n',' '),axis=1)\n",
    "#Removing additional spaces and converting to lower case\n",
    "beer_reviews['product_review'] = beer_reviews.apply(lambda x: re.sub(\"\\\\s+\",' ',x['product_review'].strip().lower()),axis=1)\n",
    "\n",
    "beer_reviews"
   ]
  },
  {
   "cell_type": "code",
   "execution_count": 270,
   "id": "095233ea",
   "metadata": {
    "colab": {
     "base_uri": "https://localhost:8080/",
     "height": 458
    },
    "executionInfo": {
     "elapsed": 10395,
     "status": "ok",
     "timestamp": 1664104326069,
     "user": {
      "displayName": "aditya nvs",
      "userId": "12756288402464343341"
     },
     "user_tz": 300
    },
    "id": "4d6f1f88",
    "outputId": "217c18ff-07a1-4933-a725-b859946726ba"
   },
   "outputs": [
    {
     "data": {
      "text/html": [
       "<div>\n",
       "<style scoped>\n",
       "    .dataframe tbody tr th:only-of-type {\n",
       "        vertical-align: middle;\n",
       "    }\n",
       "\n",
       "    .dataframe tbody tr th {\n",
       "        vertical-align: top;\n",
       "    }\n",
       "\n",
       "    .dataframe thead th {\n",
       "        text-align: right;\n",
       "    }\n",
       "</style>\n",
       "<table border=\"1\" class=\"dataframe\">\n",
       "  <thead>\n",
       "    <tr style=\"text-align: right;\">\n",
       "      <th></th>\n",
       "      <th>product_name</th>\n",
       "      <th>product_review</th>\n",
       "      <th>user_rating</th>\n",
       "      <th>tokenized_words</th>\n",
       "    </tr>\n",
       "  </thead>\n",
       "  <tbody>\n",
       "    <tr>\n",
       "      <th>0</th>\n",
       "      <td>Kentucky Brunch Brand Stout</td>\n",
       "      <td>i didnt think i was going to give it a perfect...</td>\n",
       "      <td>5.00</td>\n",
       "      <td>[i, didnt, think, i, was, going, to, give, it,...</td>\n",
       "    </tr>\n",
       "    <tr>\n",
       "      <th>1</th>\n",
       "      <td>Kentucky Brunch Brand Stout</td>\n",
       "      <td>so i just read a review that called the legend...</td>\n",
       "      <td>3.79</td>\n",
       "      <td>[so, i, just, read, a, review, that, called, t...</td>\n",
       "    </tr>\n",
       "    <tr>\n",
       "      <th>2</th>\n",
       "      <td>Kentucky Brunch Brand Stout</td>\n",
       "      <td>2021 vintage bottle 79 holy fucking shit kbbs ...</td>\n",
       "      <td>4.64</td>\n",
       "      <td>[2021, vintage, bottle, 79, holy, fucking, shi...</td>\n",
       "    </tr>\n",
       "    <tr>\n",
       "      <th>3</th>\n",
       "      <td>Kentucky Brunch Brand Stout</td>\n",
       "      <td>celebrating my buddy rug with his 1000th beer ...</td>\n",
       "      <td>4.27</td>\n",
       "      <td>[celebrating, my, buddy, rug, with, his, 1000t...</td>\n",
       "    </tr>\n",
       "    <tr>\n",
       "      <th>4</th>\n",
       "      <td>Kentucky Brunch Brand Stout</td>\n",
       "      <td>thick and syrupy pour mocha head aroma is booz...</td>\n",
       "      <td>4.79</td>\n",
       "      <td>[thick, and, syrupy, pour, mocha, head, aroma,...</td>\n",
       "    </tr>\n",
       "    <tr>\n",
       "      <th>...</th>\n",
       "      <td>...</td>\n",
       "      <td>...</td>\n",
       "      <td>...</td>\n",
       "      <td>...</td>\n",
       "    </tr>\n",
       "    <tr>\n",
       "      <th>5721</th>\n",
       "      <td>Bottle Shop Series #2: Highball Drifter</td>\n",
       "      <td>pours a clear brown with a ruby tint thin offw...</td>\n",
       "      <td>4.51</td>\n",
       "      <td>[pours, a, clear, brown, with, a, ruby, tint, ...</td>\n",
       "    </tr>\n",
       "    <tr>\n",
       "      <th>5722</th>\n",
       "      <td>Bottle Shop Series #2: Highball Drifter</td>\n",
       "      <td>a moderate pour into a pint glass yielded a fi...</td>\n",
       "      <td>4.44</td>\n",
       "      <td>[a, moderate, pour, into, a, pint, glass, yiel...</td>\n",
       "    </tr>\n",
       "    <tr>\n",
       "      <th>5723</th>\n",
       "      <td>Bottle Shop Series #2: Highball Drifter</td>\n",
       "      <td>12 oz bottle born on 7721 poured into a founde...</td>\n",
       "      <td>4.50</td>\n",
       "      <td>[12, oz, bottle, born, on, 7721, poured, into,...</td>\n",
       "    </tr>\n",
       "    <tr>\n",
       "      <th>5724</th>\n",
       "      <td>Bottle Shop Series #2: Highball Drifter</td>\n",
       "      <td>from the growler in a snifter via country fres...</td>\n",
       "      <td>4.21</td>\n",
       "      <td>[from, the, growler, in, a, snifter, via, coun...</td>\n",
       "    </tr>\n",
       "    <tr>\n",
       "      <th>5725</th>\n",
       "      <td>Bottle Shop Series #2: Highball Drifter</td>\n",
       "      <td>look resembles a red ale liquid dense off whit...</td>\n",
       "      <td>4.20</td>\n",
       "      <td>[look, resembles, a, red, ale, liquid, dense, ...</td>\n",
       "    </tr>\n",
       "  </tbody>\n",
       "</table>\n",
       "<p>5726 rows × 4 columns</p>\n",
       "</div>"
      ],
      "text/plain": [
       "                                 product_name  \\\n",
       "0                 Kentucky Brunch Brand Stout   \n",
       "1                 Kentucky Brunch Brand Stout   \n",
       "2                 Kentucky Brunch Brand Stout   \n",
       "3                 Kentucky Brunch Brand Stout   \n",
       "4                 Kentucky Brunch Brand Stout   \n",
       "...                                       ...   \n",
       "5721  Bottle Shop Series #2: Highball Drifter   \n",
       "5722  Bottle Shop Series #2: Highball Drifter   \n",
       "5723  Bottle Shop Series #2: Highball Drifter   \n",
       "5724  Bottle Shop Series #2: Highball Drifter   \n",
       "5725  Bottle Shop Series #2: Highball Drifter   \n",
       "\n",
       "                                         product_review  user_rating  \\\n",
       "0     i didnt think i was going to give it a perfect...         5.00   \n",
       "1     so i just read a review that called the legend...         3.79   \n",
       "2     2021 vintage bottle 79 holy fucking shit kbbs ...         4.64   \n",
       "3     celebrating my buddy rug with his 1000th beer ...         4.27   \n",
       "4     thick and syrupy pour mocha head aroma is booz...         4.79   \n",
       "...                                                 ...          ...   \n",
       "5721  pours a clear brown with a ruby tint thin offw...         4.51   \n",
       "5722  a moderate pour into a pint glass yielded a fi...         4.44   \n",
       "5723  12 oz bottle born on 7721 poured into a founde...         4.50   \n",
       "5724  from the growler in a snifter via country fres...         4.21   \n",
       "5725  look resembles a red ale liquid dense off whit...         4.20   \n",
       "\n",
       "                                        tokenized_words  \n",
       "0     [i, didnt, think, i, was, going, to, give, it,...  \n",
       "1     [so, i, just, read, a, review, that, called, t...  \n",
       "2     [2021, vintage, bottle, 79, holy, fucking, shi...  \n",
       "3     [celebrating, my, buddy, rug, with, his, 1000t...  \n",
       "4     [thick, and, syrupy, pour, mocha, head, aroma,...  \n",
       "...                                                 ...  \n",
       "5721  [pours, a, clear, brown, with, a, ruby, tint, ...  \n",
       "5722  [a, moderate, pour, into, a, pint, glass, yiel...  \n",
       "5723  [12, oz, bottle, born, on, 7721, poured, into,...  \n",
       "5724  [from, the, growler, in, a, snifter, via, coun...  \n",
       "5725  [look, resembles, a, red, ale, liquid, dense, ...  \n",
       "\n",
       "[5726 rows x 4 columns]"
      ]
     },
     "execution_count": 270,
     "metadata": {},
     "output_type": "execute_result"
    }
   ],
   "source": [
    "#Tokenize word\n",
    "beer_reviews['tokenized_words'] = beer_reviews.apply(lambda x: word_tokenize(x['product_review']),axis=1)\n",
    "beer_reviews"
   ]
  },
  {
   "cell_type": "code",
   "execution_count": 272,
   "id": "d45c33cf",
   "metadata": {
    "colab": {
     "base_uri": "https://localhost:8080/",
     "height": 528
    },
    "executionInfo": {
     "elapsed": 10028,
     "status": "ok",
     "timestamp": 1664104336088,
     "user": {
      "displayName": "aditya nvs",
      "userId": "12756288402464343341"
     },
     "user_tz": 300
    },
    "id": "2ecc1e8d",
    "outputId": "871727b4-6764-49b1-d2f3-358bbfca62fd"
   },
   "outputs": [
    {
     "data": {
      "text/html": [
       "<div>\n",
       "<style scoped>\n",
       "    .dataframe tbody tr th:only-of-type {\n",
       "        vertical-align: middle;\n",
       "    }\n",
       "\n",
       "    .dataframe tbody tr th {\n",
       "        vertical-align: top;\n",
       "    }\n",
       "\n",
       "    .dataframe thead th {\n",
       "        text-align: right;\n",
       "    }\n",
       "</style>\n",
       "<table border=\"1\" class=\"dataframe\">\n",
       "  <thead>\n",
       "    <tr style=\"text-align: right;\">\n",
       "      <th></th>\n",
       "      <th>product_name</th>\n",
       "      <th>product_review</th>\n",
       "      <th>user_rating</th>\n",
       "      <th>tokenized_words</th>\n",
       "    </tr>\n",
       "  </thead>\n",
       "  <tbody>\n",
       "    <tr>\n",
       "      <th>0</th>\n",
       "      <td>Kentucky Brunch Brand Stout</td>\n",
       "      <td>i didnt think i was going to give it a perfect...</td>\n",
       "      <td>5.00</td>\n",
       "      <td>[didnt, think, going, give, perfect, score, lo...</td>\n",
       "    </tr>\n",
       "    <tr>\n",
       "      <th>1</th>\n",
       "      <td>Kentucky Brunch Brand Stout</td>\n",
       "      <td>so i just read a review that called the legend...</td>\n",
       "      <td>3.79</td>\n",
       "      <td>[read, review, called, legendary, kbbs, “, typ...</td>\n",
       "    </tr>\n",
       "    <tr>\n",
       "      <th>2</th>\n",
       "      <td>Kentucky Brunch Brand Stout</td>\n",
       "      <td>2021 vintage bottle 79 holy fucking shit kbbs ...</td>\n",
       "      <td>4.64</td>\n",
       "      <td>[2021, vintage, bottle, 79, holy, fucking, shi...</td>\n",
       "    </tr>\n",
       "    <tr>\n",
       "      <th>3</th>\n",
       "      <td>Kentucky Brunch Brand Stout</td>\n",
       "      <td>celebrating my buddy rug with his 1000th beer ...</td>\n",
       "      <td>4.27</td>\n",
       "      <td>[celebrating, buddy, rug, 1000th, beer, review...</td>\n",
       "    </tr>\n",
       "    <tr>\n",
       "      <th>4</th>\n",
       "      <td>Kentucky Brunch Brand Stout</td>\n",
       "      <td>thick and syrupy pour mocha head aroma is booz...</td>\n",
       "      <td>4.79</td>\n",
       "      <td>[thick, syrupy, pour, mocha, head, aroma, booz...</td>\n",
       "    </tr>\n",
       "    <tr>\n",
       "      <th>...</th>\n",
       "      <td>...</td>\n",
       "      <td>...</td>\n",
       "      <td>...</td>\n",
       "      <td>...</td>\n",
       "    </tr>\n",
       "    <tr>\n",
       "      <th>5721</th>\n",
       "      <td>Bottle Shop Series #2: Highball Drifter</td>\n",
       "      <td>pours a clear brown with a ruby tint thin offw...</td>\n",
       "      <td>4.51</td>\n",
       "      <td>[pours, clear, brown, ruby, tint, thin, offwhi...</td>\n",
       "    </tr>\n",
       "    <tr>\n",
       "      <th>5722</th>\n",
       "      <td>Bottle Shop Series #2: Highball Drifter</td>\n",
       "      <td>a moderate pour into a pint glass yielded a fi...</td>\n",
       "      <td>4.44</td>\n",
       "      <td>[moderate, pour, pint, glass, yielded, fine, o...</td>\n",
       "    </tr>\n",
       "    <tr>\n",
       "      <th>5723</th>\n",
       "      <td>Bottle Shop Series #2: Highball Drifter</td>\n",
       "      <td>12 oz bottle born on 7721 poured into a founde...</td>\n",
       "      <td>4.50</td>\n",
       "      <td>[12, oz, bottle, born, 7721, poured, founder, ...</td>\n",
       "    </tr>\n",
       "    <tr>\n",
       "      <th>5724</th>\n",
       "      <td>Bottle Shop Series #2: Highball Drifter</td>\n",
       "      <td>from the growler in a snifter via country fres...</td>\n",
       "      <td>4.21</td>\n",
       "      <td>[growler, snifter, via, country, fresh, market...</td>\n",
       "    </tr>\n",
       "    <tr>\n",
       "      <th>5725</th>\n",
       "      <td>Bottle Shop Series #2: Highball Drifter</td>\n",
       "      <td>look resembles a red ale liquid dense off whit...</td>\n",
       "      <td>4.20</td>\n",
       "      <td>[look, resembles, red, ale, liquid, dense, whi...</td>\n",
       "    </tr>\n",
       "  </tbody>\n",
       "</table>\n",
       "<p>5726 rows × 4 columns</p>\n",
       "</div>"
      ],
      "text/plain": [
       "                                 product_name  \\\n",
       "0                 Kentucky Brunch Brand Stout   \n",
       "1                 Kentucky Brunch Brand Stout   \n",
       "2                 Kentucky Brunch Brand Stout   \n",
       "3                 Kentucky Brunch Brand Stout   \n",
       "4                 Kentucky Brunch Brand Stout   \n",
       "...                                       ...   \n",
       "5721  Bottle Shop Series #2: Highball Drifter   \n",
       "5722  Bottle Shop Series #2: Highball Drifter   \n",
       "5723  Bottle Shop Series #2: Highball Drifter   \n",
       "5724  Bottle Shop Series #2: Highball Drifter   \n",
       "5725  Bottle Shop Series #2: Highball Drifter   \n",
       "\n",
       "                                         product_review  user_rating  \\\n",
       "0     i didnt think i was going to give it a perfect...         5.00   \n",
       "1     so i just read a review that called the legend...         3.79   \n",
       "2     2021 vintage bottle 79 holy fucking shit kbbs ...         4.64   \n",
       "3     celebrating my buddy rug with his 1000th beer ...         4.27   \n",
       "4     thick and syrupy pour mocha head aroma is booz...         4.79   \n",
       "...                                                 ...          ...   \n",
       "5721  pours a clear brown with a ruby tint thin offw...         4.51   \n",
       "5722  a moderate pour into a pint glass yielded a fi...         4.44   \n",
       "5723  12 oz bottle born on 7721 poured into a founde...         4.50   \n",
       "5724  from the growler in a snifter via country fres...         4.21   \n",
       "5725  look resembles a red ale liquid dense off whit...         4.20   \n",
       "\n",
       "                                        tokenized_words  \n",
       "0     [didnt, think, going, give, perfect, score, lo...  \n",
       "1     [read, review, called, legendary, kbbs, “, typ...  \n",
       "2     [2021, vintage, bottle, 79, holy, fucking, shi...  \n",
       "3     [celebrating, buddy, rug, 1000th, beer, review...  \n",
       "4     [thick, syrupy, pour, mocha, head, aroma, booz...  \n",
       "...                                                 ...  \n",
       "5721  [pours, clear, brown, ruby, tint, thin, offwhi...  \n",
       "5722  [moderate, pour, pint, glass, yielded, fine, o...  \n",
       "5723  [12, oz, bottle, born, 7721, poured, founder, ...  \n",
       "5724  [growler, snifter, via, country, fresh, market...  \n",
       "5725  [look, resembles, red, ale, liquid, dense, whi...  \n",
       "\n",
       "[5726 rows x 4 columns]"
      ]
     },
     "execution_count": 272,
     "metadata": {},
     "output_type": "execute_result"
    }
   ],
   "source": [
    "#removing stopwords\n",
    "beer_reviews['tokenized_words'] = beer_reviews['tokenized_words'].apply(lambda x: [item for item in x if item not in stopwords])\n",
    "lemmatizer = WordNetLemmatizer()\n",
    "#Get root form of the word\n",
    "beer_reviews['tokenized_words'] = beer_reviews['tokenized_words'].apply(lambda x: [lemmatizer.lemmatize(item) for item in x])\n",
    "beer_reviews"
   ]
  },
  {
   "cell_type": "code",
   "execution_count": 273,
   "id": "3886425d",
   "metadata": {
    "colab": {
     "base_uri": "https://localhost:8080/"
    },
    "executionInfo": {
     "elapsed": 20098,
     "status": "ok",
     "timestamp": 1664104356182,
     "user": {
      "displayName": "aditya nvs",
      "userId": "12756288402464343341"
     },
     "user_tz": 300
    },
    "id": "3f40c51e",
    "outputId": "b9322693-680b-4e41-be77-e14cfb38d859"
   },
   "outputs": [
    {
     "data": {
      "text/plain": [
       "FreqDist({'beer': 5387, 'head': 4169, 'taste': 3849, 'malt': 3286, 'hop': 2743, 'flavor': 2609, 'light': 2507, 'aroma': 2483, 'good': 2412, 'note': 2362, ...})"
      ]
     },
     "execution_count": 273,
     "metadata": {},
     "output_type": "execute_result"
    }
   ],
   "source": [
    "all_words = beer_reviews['tokenized_words'].sum()\n",
    "words_frequency= nltk.FreqDist(all_words)\n",
    "words_frequency"
   ]
  },
  {
   "cell_type": "code",
   "execution_count": 274,
   "id": "f6e3e2d2",
   "metadata": {
    "colab": {
     "base_uri": "https://localhost:8080/",
     "height": 424
    },
    "executionInfo": {
     "elapsed": 20,
     "status": "ok",
     "timestamp": 1664104356183,
     "user": {
      "displayName": "aditya nvs",
      "userId": "12756288402464343341"
     },
     "user_tz": 300
    },
    "id": "2c0c95c7",
    "outputId": "3c64e837-dd59-43e1-bb72-d2e590310a95"
   },
   "outputs": [
    {
     "data": {
      "text/html": [
       "<div>\n",
       "<style scoped>\n",
       "    .dataframe tbody tr th:only-of-type {\n",
       "        vertical-align: middle;\n",
       "    }\n",
       "\n",
       "    .dataframe tbody tr th {\n",
       "        vertical-align: top;\n",
       "    }\n",
       "\n",
       "    .dataframe thead th {\n",
       "        text-align: right;\n",
       "    }\n",
       "</style>\n",
       "<table border=\"1\" class=\"dataframe\">\n",
       "  <thead>\n",
       "    <tr style=\"text-align: right;\">\n",
       "      <th></th>\n",
       "      <th>Word</th>\n",
       "      <th>Frequency</th>\n",
       "    </tr>\n",
       "  </thead>\n",
       "  <tbody>\n",
       "    <tr>\n",
       "      <th>98</th>\n",
       "      <td>beer</td>\n",
       "      <td>5387</td>\n",
       "    </tr>\n",
       "    <tr>\n",
       "      <th>243</th>\n",
       "      <td>head</td>\n",
       "      <td>4169</td>\n",
       "    </tr>\n",
       "    <tr>\n",
       "      <th>8</th>\n",
       "      <td>taste</td>\n",
       "      <td>3849</td>\n",
       "    </tr>\n",
       "    <tr>\n",
       "      <th>443</th>\n",
       "      <td>malt</td>\n",
       "      <td>3286</td>\n",
       "    </tr>\n",
       "    <tr>\n",
       "      <th>528</th>\n",
       "      <td>hop</td>\n",
       "      <td>2743</td>\n",
       "    </tr>\n",
       "    <tr>\n",
       "      <th>...</th>\n",
       "      <td>...</td>\n",
       "      <td>...</td>\n",
       "    </tr>\n",
       "    <tr>\n",
       "      <th>10085</th>\n",
       "      <td>11322</td>\n",
       "      <td>1</td>\n",
       "    </tr>\n",
       "    <tr>\n",
       "      <th>10087</th>\n",
       "      <td>sfloral</td>\n",
       "      <td>1</td>\n",
       "    </tr>\n",
       "    <tr>\n",
       "      <th>10088</th>\n",
       "      <td>tgrapefruit</td>\n",
       "      <td>1</td>\n",
       "    </tr>\n",
       "    <tr>\n",
       "      <th>10089</th>\n",
       "      <td>alltimer</td>\n",
       "      <td>1</td>\n",
       "    </tr>\n",
       "    <tr>\n",
       "      <th>17993</th>\n",
       "      <td>excelent</td>\n",
       "      <td>1</td>\n",
       "    </tr>\n",
       "  </tbody>\n",
       "</table>\n",
       "<p>17994 rows × 2 columns</p>\n",
       "</div>"
      ],
      "text/plain": [
       "              Word  Frequency\n",
       "98            beer       5387\n",
       "243           head       4169\n",
       "8            taste       3849\n",
       "443           malt       3286\n",
       "528            hop       2743\n",
       "...            ...        ...\n",
       "10085        11322          1\n",
       "10087      sfloral          1\n",
       "10088  tgrapefruit          1\n",
       "10089     alltimer          1\n",
       "17993     excelent          1\n",
       "\n",
       "[17994 rows x 2 columns]"
      ]
     },
     "execution_count": 274,
     "metadata": {},
     "output_type": "execute_result"
    }
   ],
   "source": [
    "words_frequency_df = pd.DataFrame(data=words_frequency.items(),columns=['Word','Frequency'])\n",
    "words_frequency_df.sort_values(by='Frequency',ascending=False)"
   ]
  },
  {
   "cell_type": "code",
   "execution_count": 275,
   "id": "01599ddf",
   "metadata": {
    "executionInfo": {
     "elapsed": 19,
     "status": "ok",
     "timestamp": 1664104356184,
     "user": {
      "displayName": "aditya nvs",
      "userId": "12756288402464343341"
     },
     "user_tz": 300
    },
    "id": "4b1c235b"
   },
   "outputs": [],
   "source": [
    "#attributes that we selected looking at https://www.dummies.com/food-drink/drinks/beer/beer-for-dummies-cheat-sheet/\n",
    "attributes = ['taste','smell','froth','fruity','hoppy','malty','robust','clarity','aggressive','flavor','sweet', \\\n",
    "              'note','fruit','aroma','light','malt','hop','carbonation','smooth','thick','mouthfeel','bitterness','dark']"
   ]
  },
  {
   "cell_type": "code",
   "execution_count": 276,
   "id": "95762ad0",
   "metadata": {
    "colab": {
     "base_uri": "https://localhost:8080/",
     "height": 363
    },
    "executionInfo": {
     "elapsed": 20,
     "status": "ok",
     "timestamp": 1664104356185,
     "user": {
      "displayName": "aditya nvs",
      "userId": "12756288402464343341"
     },
     "user_tz": 300
    },
    "id": "1a0820a8",
    "outputId": "e7036026-1014-41bd-b9e6-944253ad3e7a"
   },
   "outputs": [
    {
     "data": {
      "text/html": [
       "<div>\n",
       "<style scoped>\n",
       "    .dataframe tbody tr th:only-of-type {\n",
       "        vertical-align: middle;\n",
       "    }\n",
       "\n",
       "    .dataframe tbody tr th {\n",
       "        vertical-align: top;\n",
       "    }\n",
       "\n",
       "    .dataframe thead th {\n",
       "        text-align: right;\n",
       "    }\n",
       "</style>\n",
       "<table border=\"1\" class=\"dataframe\">\n",
       "  <thead>\n",
       "    <tr style=\"text-align: right;\">\n",
       "      <th></th>\n",
       "      <th>Word</th>\n",
       "      <th>Frequency</th>\n",
       "    </tr>\n",
       "  </thead>\n",
       "  <tbody>\n",
       "    <tr>\n",
       "      <th>8</th>\n",
       "      <td>taste</td>\n",
       "      <td>3849</td>\n",
       "    </tr>\n",
       "    <tr>\n",
       "      <th>443</th>\n",
       "      <td>malt</td>\n",
       "      <td>3286</td>\n",
       "    </tr>\n",
       "    <tr>\n",
       "      <th>528</th>\n",
       "      <td>hop</td>\n",
       "      <td>2743</td>\n",
       "    </tr>\n",
       "    <tr>\n",
       "      <th>164</th>\n",
       "      <td>flavor</td>\n",
       "      <td>2609</td>\n",
       "    </tr>\n",
       "    <tr>\n",
       "      <th>257</th>\n",
       "      <td>light</td>\n",
       "      <td>2507</td>\n",
       "    </tr>\n",
       "    <tr>\n",
       "      <th>108</th>\n",
       "      <td>aroma</td>\n",
       "      <td>2483</td>\n",
       "    </tr>\n",
       "    <tr>\n",
       "      <th>281</th>\n",
       "      <td>note</td>\n",
       "      <td>2362</td>\n",
       "    </tr>\n",
       "    <tr>\n",
       "      <th>93</th>\n",
       "      <td>dark</td>\n",
       "      <td>2332</td>\n",
       "    </tr>\n",
       "    <tr>\n",
       "      <th>745</th>\n",
       "      <td>sweet</td>\n",
       "      <td>2194</td>\n",
       "    </tr>\n",
       "    <tr>\n",
       "      <th>179</th>\n",
       "      <td>carbonation</td>\n",
       "      <td>2046</td>\n",
       "    </tr>\n",
       "  </tbody>\n",
       "</table>\n",
       "</div>"
      ],
      "text/plain": [
       "            Word  Frequency\n",
       "8          taste       3849\n",
       "443         malt       3286\n",
       "528          hop       2743\n",
       "164       flavor       2609\n",
       "257        light       2507\n",
       "108        aroma       2483\n",
       "281         note       2362\n",
       "93          dark       2332\n",
       "745        sweet       2194\n",
       "179  carbonation       2046"
      ]
     },
     "execution_count": 276,
     "metadata": {},
     "output_type": "execute_result"
    }
   ],
   "source": [
    "#frequency distribution of these attributes in our reviews\n",
    "top_10_attributes = words_frequency_df[words_frequency_df['Word'].apply(lambda x: x in attributes)].sort_values(by='Frequency',ascending=False)[:10]\n",
    "top_10_attributes"
   ]
  },
  {
   "cell_type": "code",
   "execution_count": 277,
   "id": "44192644",
   "metadata": {
    "colab": {
     "base_uri": "https://localhost:8080/",
     "height": 617
    },
    "executionInfo": {
     "elapsed": 551,
     "status": "ok",
     "timestamp": 1664104356717,
     "user": {
      "displayName": "aditya nvs",
      "userId": "12756288402464343341"
     },
     "user_tz": 300
    },
    "id": "f7636d19",
    "outputId": "123962be-9325-4214-e558-210e6d1b222c"
   },
   "outputs": [
    {
     "data": {
      "text/plain": [
       "Text(0.5, 1.0, 'Frequency Distribution of Beer Attributes')"
      ]
     },
     "execution_count": 277,
     "metadata": {},
     "output_type": "execute_result"
    },
    {
     "data": {
      "image/png": "[encoded data removed]",
      "text/plain": [
       "<Figure size 936x576 with 1 Axes>"
      ]
     },
     "metadata": {},
     "output_type": "display_data"
    }
   ],
   "source": [
    "sns.set(font_scale=1)\n",
    "plt.figure(figsize=(13,8))\n",
    "sns.barplot(x='Word',y='Frequency',data=top_10_attributes)\n",
    "plt.title('Frequency Distribution of Beer Attributes')"
   ]
  },
  {
   "cell_type": "markdown",
   "id": "f44d788e",
   "metadata": {},
   "source": [
    "After looking at the frequency of some of the most popular attributes we conclude our **top 3 attributes as taste, malt, and hop.** We then saved it in a file for reference."
   ]
  },
  {
   "cell_type": "markdown",
   "id": "b867b476",
   "metadata": {
    "id": "03848c40"
   },
   "source": [
    "## TASK-C"
   ]
  },
  {
   "cell_type": "markdown",
   "id": "64bc7ce6",
   "metadata": {},
   "source": [
    "#### Perform a similarity analysis using cosine similarity (without word embeddings) with the 3 attributes specified by the customer and the reviews. "
   ]
  },
  {
   "cell_type": "code",
   "execution_count": null,
   "id": "ea31cfd9",
   "metadata": {
    "colab": {
     "base_uri": "https://localhost:8080/",
     "height": 424
    },
    "executionInfo": {
     "elapsed": 191,
     "status": "ok",
     "timestamp": 1664104361840,
     "user": {
      "displayName": "aditya nvs",
      "userId": "12756288402464343341"
     },
     "user_tz": 300
    },
    "id": "5b013aa6",
    "outputId": "b4031570-ca5a-4c9a-c34c-0ad022c15890"
   },
   "outputs": [],
   "source": [
    "#mergeFinal.to_csv('/content/gdrive/MyDrive/Unstructured Data/Assignment-2/BeerWords.csv',index=False)\n",
    "#mergeFinal = pd.read_csv('/content/gdrive/MyDrive/Unstructured Data/Assignment-2/BeerWords.csv')\n",
    "beer_reviews"
   ]
  },
  {
   "cell_type": "code",
   "execution_count": 278,
   "id": "f18eafbf",
   "metadata": {
    "colab": {
     "base_uri": "https://localhost:8080/"
    },
    "executionInfo": {
     "elapsed": 159,
     "status": "ok",
     "timestamp": 1664104363726,
     "user": {
      "displayName": "aditya nvs",
      "userId": "12756288402464343341"
     },
     "user_tz": 300
    },
    "id": "d3d61de7",
    "outputId": "587c6a0a-8232-4ed7-9ad0-68819eb19000"
   },
   "outputs": [
    {
     "data": {
      "text/plain": [
       "array(['taste', 'malt', 'hop'], dtype=object)"
      ]
     },
     "execution_count": 278,
     "metadata": {},
     "output_type": "execute_result"
    }
   ],
   "source": [
    "user_attributes = pd.read_csv('attributes.txt').columns.values\n",
    "user_attributes"
   ]
  },
  {
   "cell_type": "code",
   "execution_count": 279,
   "id": "c56cb05f",
   "metadata": {
    "executionInfo": {
     "elapsed": 152,
     "status": "ok",
     "timestamp": 1664104365622,
     "user": {
      "displayName": "aditya nvs",
      "userId": "12756288402464343341"
     },
     "user_tz": 300
    },
    "id": "681111fd"
   },
   "outputs": [],
   "source": [
    "def attributeCounter(s,i):\n",
    "    wordDict = Counter(s)\n",
    "    return wordDict[i]\n",
    "\n",
    "def cosine(s1,s2):\n",
    "    return (np.dot(s1,s2))/(norm(s1)*norm(s2))"
   ]
  },
  {
   "cell_type": "code",
   "execution_count": 281,
   "id": "2a3525d5",
   "metadata": {
    "executionInfo": {
     "elapsed": 194,
     "status": "ok",
     "timestamp": 1664104368727,
     "user": {
      "displayName": "aditya nvs",
      "userId": "12756288402464343341"
     },
     "user_tz": 300
    },
    "id": "330f0e79"
   },
   "outputs": [
    {
     "name": "stderr",
     "output_type": "stream",
     "text": [
      "/Users/dishagandhi/opt/anaconda3/lib/python3.7/site-packages/ipykernel_launcher.py:6: RuntimeWarning: invalid value encountered in true_divide\n",
      "  \n"
     ]
    }
   ],
   "source": [
    "for i in productList:\n",
    "    beer_reviews[i] = beer_reviews['tokenized_words'].apply(lambda x: attributeCounter(x,i))\n",
    "  \n",
    "attribute_idf_vector = np.array([1,1,1])\n",
    "\n",
    "beer_reviews['similarity_score'] = beer_reviews.iloc[:,4:].apply(lambda x: cosine(x.values,attribute_idf_vector),axis=1).sort_values(ascending=False)\n",
    "#beerDf[['product_name','product_review','Similarity Score']].to_csv('/content/gdrive/MyDrive/Unstructured Data/Assignment-2/Cosine Similarity.csv',index=False)\n"
   ]
  },
  {
   "cell_type": "code",
   "execution_count": 282,
   "id": "7b136f64",
   "metadata": {
    "colab": {
     "base_uri": "https://localhost:8080/",
     "height": 658
    },
    "executionInfo": {
     "elapsed": 464,
     "status": "ok",
     "timestamp": 1664104378625,
     "user": {
      "displayName": "aditya nvs",
      "userId": "12756288402464343341"
     },
     "user_tz": 300
    },
    "id": "18aa2f67",
    "outputId": "4cf38180-f305-4874-a3a8-99de72760666"
   },
   "outputs": [
    {
     "data": {
      "text/html": [
       "<div>\n",
       "<style scoped>\n",
       "    .dataframe tbody tr th:only-of-type {\n",
       "        vertical-align: middle;\n",
       "    }\n",
       "\n",
       "    .dataframe tbody tr th {\n",
       "        vertical-align: top;\n",
       "    }\n",
       "\n",
       "    .dataframe thead th {\n",
       "        text-align: right;\n",
       "    }\n",
       "</style>\n",
       "<table border=\"1\" class=\"dataframe\">\n",
       "  <thead>\n",
       "    <tr style=\"text-align: right;\">\n",
       "      <th></th>\n",
       "      <th>product_name</th>\n",
       "      <th>product_review</th>\n",
       "      <th>user_rating</th>\n",
       "      <th>tokenized_words</th>\n",
       "      <th>taste</th>\n",
       "      <th>malt</th>\n",
       "      <th>hop</th>\n",
       "      <th>similarity_score</th>\n",
       "    </tr>\n",
       "  </thead>\n",
       "  <tbody>\n",
       "    <tr>\n",
       "      <th>0</th>\n",
       "      <td>Kentucky Brunch Brand Stout</td>\n",
       "      <td>i didnt think i was going to give it a perfect...</td>\n",
       "      <td>5.00</td>\n",
       "      <td>[didnt, think, going, give, perfect, score, lo...</td>\n",
       "      <td>2</td>\n",
       "      <td>0</td>\n",
       "      <td>0</td>\n",
       "      <td>0.57735</td>\n",
       "    </tr>\n",
       "    <tr>\n",
       "      <th>1</th>\n",
       "      <td>Kentucky Brunch Brand Stout</td>\n",
       "      <td>so i just read a review that called the legend...</td>\n",
       "      <td>3.79</td>\n",
       "      <td>[read, review, called, legendary, kbbs, “, typ...</td>\n",
       "      <td>0</td>\n",
       "      <td>0</td>\n",
       "      <td>0</td>\n",
       "      <td>0.00000</td>\n",
       "    </tr>\n",
       "    <tr>\n",
       "      <th>2</th>\n",
       "      <td>Kentucky Brunch Brand Stout</td>\n",
       "      <td>2021 vintage bottle 79 holy fucking shit kbbs ...</td>\n",
       "      <td>4.64</td>\n",
       "      <td>[2021, vintage, bottle, 79, holy, fucking, shi...</td>\n",
       "      <td>1</td>\n",
       "      <td>0</td>\n",
       "      <td>0</td>\n",
       "      <td>0.57735</td>\n",
       "    </tr>\n",
       "    <tr>\n",
       "      <th>3</th>\n",
       "      <td>Kentucky Brunch Brand Stout</td>\n",
       "      <td>celebrating my buddy rug with his 1000th beer ...</td>\n",
       "      <td>4.27</td>\n",
       "      <td>[celebrating, buddy, rug, 1000th, beer, review...</td>\n",
       "      <td>0</td>\n",
       "      <td>0</td>\n",
       "      <td>0</td>\n",
       "      <td>0.00000</td>\n",
       "    </tr>\n",
       "    <tr>\n",
       "      <th>4</th>\n",
       "      <td>Kentucky Brunch Brand Stout</td>\n",
       "      <td>thick and syrupy pour mocha head aroma is booz...</td>\n",
       "      <td>4.79</td>\n",
       "      <td>[thick, syrupy, pour, mocha, head, aroma, booz...</td>\n",
       "      <td>0</td>\n",
       "      <td>0</td>\n",
       "      <td>0</td>\n",
       "      <td>0.00000</td>\n",
       "    </tr>\n",
       "    <tr>\n",
       "      <th>...</th>\n",
       "      <td>...</td>\n",
       "      <td>...</td>\n",
       "      <td>...</td>\n",
       "      <td>...</td>\n",
       "      <td>...</td>\n",
       "      <td>...</td>\n",
       "      <td>...</td>\n",
       "      <td>...</td>\n",
       "    </tr>\n",
       "    <tr>\n",
       "      <th>5721</th>\n",
       "      <td>Bottle Shop Series #2: Highball Drifter</td>\n",
       "      <td>pours a clear brown with a ruby tint thin offw...</td>\n",
       "      <td>4.51</td>\n",
       "      <td>[pours, clear, brown, ruby, tint, thin, offwhi...</td>\n",
       "      <td>0</td>\n",
       "      <td>0</td>\n",
       "      <td>0</td>\n",
       "      <td>0.00000</td>\n",
       "    </tr>\n",
       "    <tr>\n",
       "      <th>5722</th>\n",
       "      <td>Bottle Shop Series #2: Highball Drifter</td>\n",
       "      <td>a moderate pour into a pint glass yielded a fi...</td>\n",
       "      <td>4.44</td>\n",
       "      <td>[moderate, pour, pint, glass, yielded, fine, o...</td>\n",
       "      <td>2</td>\n",
       "      <td>0</td>\n",
       "      <td>0</td>\n",
       "      <td>0.57735</td>\n",
       "    </tr>\n",
       "    <tr>\n",
       "      <th>5723</th>\n",
       "      <td>Bottle Shop Series #2: Highball Drifter</td>\n",
       "      <td>12 oz bottle born on 7721 poured into a founde...</td>\n",
       "      <td>4.50</td>\n",
       "      <td>[12, oz, bottle, born, 7721, poured, founder, ...</td>\n",
       "      <td>0</td>\n",
       "      <td>0</td>\n",
       "      <td>0</td>\n",
       "      <td>0.00000</td>\n",
       "    </tr>\n",
       "    <tr>\n",
       "      <th>5724</th>\n",
       "      <td>Bottle Shop Series #2: Highball Drifter</td>\n",
       "      <td>from the growler in a snifter via country fres...</td>\n",
       "      <td>4.21</td>\n",
       "      <td>[growler, snifter, via, country, fresh, market...</td>\n",
       "      <td>0</td>\n",
       "      <td>0</td>\n",
       "      <td>0</td>\n",
       "      <td>0.00000</td>\n",
       "    </tr>\n",
       "    <tr>\n",
       "      <th>5725</th>\n",
       "      <td>Bottle Shop Series #2: Highball Drifter</td>\n",
       "      <td>look resembles a red ale liquid dense off whit...</td>\n",
       "      <td>4.20</td>\n",
       "      <td>[look, resembles, red, ale, liquid, dense, whi...</td>\n",
       "      <td>1</td>\n",
       "      <td>0</td>\n",
       "      <td>0</td>\n",
       "      <td>0.57735</td>\n",
       "    </tr>\n",
       "  </tbody>\n",
       "</table>\n",
       "<p>5726 rows × 8 columns</p>\n",
       "</div>"
      ],
      "text/plain": [
       "                                 product_name  \\\n",
       "0                 Kentucky Brunch Brand Stout   \n",
       "1                 Kentucky Brunch Brand Stout   \n",
       "2                 Kentucky Brunch Brand Stout   \n",
       "3                 Kentucky Brunch Brand Stout   \n",
       "4                 Kentucky Brunch Brand Stout   \n",
       "...                                       ...   \n",
       "5721  Bottle Shop Series #2: Highball Drifter   \n",
       "5722  Bottle Shop Series #2: Highball Drifter   \n",
       "5723  Bottle Shop Series #2: Highball Drifter   \n",
       "5724  Bottle Shop Series #2: Highball Drifter   \n",
       "5725  Bottle Shop Series #2: Highball Drifter   \n",
       "\n",
       "                                         product_review  user_rating  \\\n",
       "0     i didnt think i was going to give it a perfect...         5.00   \n",
       "1     so i just read a review that called the legend...         3.79   \n",
       "2     2021 vintage bottle 79 holy fucking shit kbbs ...         4.64   \n",
       "3     celebrating my buddy rug with his 1000th beer ...         4.27   \n",
       "4     thick and syrupy pour mocha head aroma is booz...         4.79   \n",
       "...                                                 ...          ...   \n",
       "5721  pours a clear brown with a ruby tint thin offw...         4.51   \n",
       "5722  a moderate pour into a pint glass yielded a fi...         4.44   \n",
       "5723  12 oz bottle born on 7721 poured into a founde...         4.50   \n",
       "5724  from the growler in a snifter via country fres...         4.21   \n",
       "5725  look resembles a red ale liquid dense off whit...         4.20   \n",
       "\n",
       "                                        tokenized_words  taste  malt  hop  \\\n",
       "0     [didnt, think, going, give, perfect, score, lo...      2     0    0   \n",
       "1     [read, review, called, legendary, kbbs, “, typ...      0     0    0   \n",
       "2     [2021, vintage, bottle, 79, holy, fucking, shi...      1     0    0   \n",
       "3     [celebrating, buddy, rug, 1000th, beer, review...      0     0    0   \n",
       "4     [thick, syrupy, pour, mocha, head, aroma, booz...      0     0    0   \n",
       "...                                                 ...    ...   ...  ...   \n",
       "5721  [pours, clear, brown, ruby, tint, thin, offwhi...      0     0    0   \n",
       "5722  [moderate, pour, pint, glass, yielded, fine, o...      2     0    0   \n",
       "5723  [12, oz, bottle, born, 7721, poured, founder, ...      0     0    0   \n",
       "5724  [growler, snifter, via, country, fresh, market...      0     0    0   \n",
       "5725  [look, resembles, red, ale, liquid, dense, whi...      1     0    0   \n",
       "\n",
       "      similarity_score  \n",
       "0              0.57735  \n",
       "1              0.00000  \n",
       "2              0.57735  \n",
       "3              0.00000  \n",
       "4              0.00000  \n",
       "...                ...  \n",
       "5721           0.00000  \n",
       "5722           0.57735  \n",
       "5723           0.00000  \n",
       "5724           0.00000  \n",
       "5725           0.57735  \n",
       "\n",
       "[5726 rows x 8 columns]"
      ]
     },
     "execution_count": 282,
     "metadata": {},
     "output_type": "execute_result"
    }
   ],
   "source": [
    "beer_reviews['similarity_score'] = beer_reviews['similarity_score'].fillna(0)\n",
    "beer_reviews"
   ]
  },
  {
   "cell_type": "markdown",
   "id": "fa7662fb",
   "metadata": {},
   "source": [
    "We used a very simple approach for calculating similarity which was finding the **cosine similarity between the term frequency count for top 3 attributes with a unit array.**"
   ]
  },
  {
   "cell_type": "markdown",
   "id": "03762e0b",
   "metadata": {
    "id": "401e0925"
   },
   "source": [
    "## TASK-D"
   ]
  },
  {
   "cell_type": "markdown",
   "id": "74c10e03",
   "metadata": {},
   "source": [
    "#### For every review, perform a sentiment analysis (using VADER)."
   ]
  },
  {
   "cell_type": "code",
   "execution_count": 284,
   "id": "599838a8",
   "metadata": {
    "executionInfo": {
     "elapsed": 167,
     "status": "ok",
     "timestamp": 1664104395571,
     "user": {
      "displayName": "aditya nvs",
      "userId": "12756288402464343341"
     },
     "user_tz": 300
    },
    "id": "00543cef"
   },
   "outputs": [],
   "source": [
    "def vaderScore(review):\n",
    "    sdr = SentimentIntensityAnalyzer()\n",
    "    sentiment_dict = sdr.polarity_scores(' '.join(review))\n",
    "    if(sentiment_dict['compound']>=0.5):\n",
    "        return 'Positive',sentiment_dict['compound']\n",
    "    elif(sentiment_dict['compound']<=-0.05):\n",
    "        return 'Negative',sentiment_dict['compound']\n",
    "    else:\n",
    "        return 'Neutral',sentiment_dict['compound']\n",
    "    print(sentiment_dict)\n",
    "    "
   ]
  },
  {
   "cell_type": "code",
   "execution_count": 285,
   "id": "daaf24d9",
   "metadata": {
    "executionInfo": {
     "elapsed": 111087,
     "status": "ok",
     "timestamp": 1664104509439,
     "user": {
      "displayName": "aditya nvs",
      "userId": "12756288402464343341"
     },
     "user_tz": 300
    },
    "id": "bfb0dd9c"
   },
   "outputs": [],
   "source": [
    "beer_reviews['vader_score'] = beer_reviews['tokenized_words'].apply(lambda x: vaderScore(x))"
   ]
  },
  {
   "cell_type": "code",
   "execution_count": 286,
   "id": "7dfec182",
   "metadata": {
    "executionInfo": {
     "elapsed": 8,
     "status": "ok",
     "timestamp": 1664104509441,
     "user": {
      "displayName": "aditya nvs",
      "userId": "12756288402464343341"
     },
     "user_tz": 300
    },
    "id": "6fde2be3"
   },
   "outputs": [],
   "source": [
    "beer_reviews['sentiment'],beer_reviews['compound_score'] = zip(*beer_reviews['vader_score'])"
   ]
  },
  {
   "cell_type": "code",
   "execution_count": 287,
   "id": "e1e9d8c2",
   "metadata": {
    "colab": {
     "base_uri": "https://localhost:8080/"
    },
    "executionInfo": {
     "elapsed": 191,
     "status": "ok",
     "timestamp": 1664104509627,
     "user": {
      "displayName": "aditya nvs",
      "userId": "12756288402464343341"
     },
     "user_tz": 300
    },
    "id": "bd4a43bc",
    "outputId": "6156ea7f-8b17-4448-baec-0ca51874d61f"
   },
   "outputs": [
    {
     "data": {
      "text/plain": [
       "Positive    4947\n",
       "Neutral      547\n",
       "Negative     232\n",
       "Name: sentiment, dtype: int64"
      ]
     },
     "execution_count": 287,
     "metadata": {},
     "output_type": "execute_result"
    }
   ],
   "source": [
    "beer_reviews['sentiment'].value_counts()"
   ]
  },
  {
   "cell_type": "markdown",
   "id": "d3e1d700",
   "metadata": {},
   "source": [
    "Using the VADER Sentiment Analysis we calculated Sentiment Score on all reviews. The **Compound Score** represents the Sentiment Score and VADER Score represents the total sentiment along with the score"
   ]
  },
  {
   "cell_type": "markdown",
   "id": "24f4a597",
   "metadata": {
    "id": "8e3facc3"
   },
   "source": [
    "## TASK-E"
   ]
  },
  {
   "cell_type": "markdown",
   "id": "e59ccb59",
   "metadata": {},
   "source": [
    "#### Create an evaluation score for each beer that uses both similarity and sentiment scores. Now recommend 3 products to the customer."
   ]
  },
  {
   "cell_type": "code",
   "execution_count": 288,
   "id": "ebd06e67",
   "metadata": {
    "colab": {
     "base_uri": "https://localhost:8080/"
    },
    "executionInfo": {
     "elapsed": 7,
     "status": "ok",
     "timestamp": 1664104509627,
     "user": {
      "displayName": "aditya nvs",
      "userId": "12756288402464343341"
     },
     "user_tz": 300
    },
    "id": "50de616b",
    "outputId": "df67bdb1-fe78-4ac1-9286-f235b72de7a3"
   },
   "outputs": [
    {
     "name": "stdout",
     "output_type": "stream",
     "text": [
      "The Top 3 recommendations based on Bag of Words similarity scores are: \n",
      "1.Export Lager\n",
      "2.Prince Percy \n",
      "3.Everett\n"
     ]
    }
   ],
   "source": [
    "sentiment_avg = beer_reviews.groupby('product_name')['compound_score'].mean().reset_index()\n",
    "sentiment_avg = sentiment_avg.sort_values('compound_score', ascending=False)\n",
    "sentiment_avg = sentiment_avg.reset_index(drop=True)\n",
    "\n",
    "similarity_avg = beer_reviews.groupby('product_name')['similarity_score'].mean().reset_index()\n",
    "similarity_avg = similarity_avg.sort_values('similarity_score', ascending=False)\n",
    "similarity_avg = similarity_avg.reset_index(drop=True)\n",
    "\n",
    "review = similarity_avg.merge(sentiment_avg, on='product_name')\n",
    "review['evaluation_score'] = review[['similarity_score','compound_score']].mean(axis=1)\n",
    "recommended = review.sort_values(by='evaluation_score', ascending=False,ignore_index=True)\n",
    "print(f\"The Top 3 recommendations based on Bag of Words similarity scores are: \\n1.{recommended.product_name[0]}\\n2.{recommended.product_name[1]} \\n3.{recommended.product_name[2]}\")"
   ]
  },
  {
   "cell_type": "code",
   "execution_count": 289,
   "id": "cf8d2b73",
   "metadata": {},
   "outputs": [
    {
     "data": {
      "text/html": [
       "<div>\n",
       "<style scoped>\n",
       "    .dataframe tbody tr th:only-of-type {\n",
       "        vertical-align: middle;\n",
       "    }\n",
       "\n",
       "    .dataframe tbody tr th {\n",
       "        vertical-align: top;\n",
       "    }\n",
       "\n",
       "    .dataframe thead th {\n",
       "        text-align: right;\n",
       "    }\n",
       "</style>\n",
       "<table border=\"1\" class=\"dataframe\">\n",
       "  <thead>\n",
       "    <tr style=\"text-align: right;\">\n",
       "      <th></th>\n",
       "      <th>product_name</th>\n",
       "      <th>similarity_score</th>\n",
       "      <th>compound_score</th>\n",
       "      <th>evaluation_score</th>\n",
       "    </tr>\n",
       "  </thead>\n",
       "  <tbody>\n",
       "    <tr>\n",
       "      <th>0</th>\n",
       "      <td>Export Lager</td>\n",
       "      <td>0.805226</td>\n",
       "      <td>0.939420</td>\n",
       "      <td>0.872323</td>\n",
       "    </tr>\n",
       "    <tr>\n",
       "      <th>1</th>\n",
       "      <td>Prince Percy</td>\n",
       "      <td>0.783475</td>\n",
       "      <td>0.923625</td>\n",
       "      <td>0.853550</td>\n",
       "    </tr>\n",
       "    <tr>\n",
       "      <th>2</th>\n",
       "      <td>Everett</td>\n",
       "      <td>0.780279</td>\n",
       "      <td>0.920964</td>\n",
       "      <td>0.850621</td>\n",
       "    </tr>\n",
       "  </tbody>\n",
       "</table>\n",
       "</div>"
      ],
      "text/plain": [
       "   product_name  similarity_score  compound_score  evaluation_score\n",
       "0  Export Lager          0.805226        0.939420          0.872323\n",
       "1  Prince Percy          0.783475        0.923625          0.853550\n",
       "2       Everett          0.780279        0.920964          0.850621"
      ]
     },
     "execution_count": 289,
     "metadata": {},
     "output_type": "execute_result"
    }
   ],
   "source": [
    "recommended.head(3)"
   ]
  },
  {
   "cell_type": "markdown",
   "id": "aa5af1dc",
   "metadata": {},
   "source": [
    "## TASK-F"
   ]
  },
  {
   "cell_type": "markdown",
   "id": "54ce092c",
   "metadata": {},
   "source": [
    "#### How would your recommendation change if you use word vectors (e.g., the spaCy package with medium sized pretrained word vectors) instead of the plain vanilla bag-of-words cosine similarity? One way to analyze the difference would be to consider the % of reviews that mention a preferred attribute. "
   ]
  },
  {
   "cell_type": "code",
   "execution_count": 290,
   "id": "a28444bf",
   "metadata": {},
   "outputs": [
    {
     "data": {
      "text/html": [
       "<div>\n",
       "<style scoped>\n",
       "    .dataframe tbody tr th:only-of-type {\n",
       "        vertical-align: middle;\n",
       "    }\n",
       "\n",
       "    .dataframe tbody tr th {\n",
       "        vertical-align: top;\n",
       "    }\n",
       "\n",
       "    .dataframe thead th {\n",
       "        text-align: right;\n",
       "    }\n",
       "</style>\n",
       "<table border=\"1\" class=\"dataframe\">\n",
       "  <thead>\n",
       "    <tr style=\"text-align: right;\">\n",
       "      <th></th>\n",
       "      <th>product_name</th>\n",
       "      <th>product_review</th>\n",
       "      <th>user_rating</th>\n",
       "      <th>tokenized_words</th>\n",
       "      <th>taste</th>\n",
       "      <th>malt</th>\n",
       "      <th>hop</th>\n",
       "      <th>similarity_score</th>\n",
       "      <th>vader_score</th>\n",
       "      <th>sentiment</th>\n",
       "      <th>compound_score</th>\n",
       "      <th>sim_score_taste</th>\n",
       "      <th>sim_score_malt</th>\n",
       "      <th>sim_score_hop</th>\n",
       "    </tr>\n",
       "  </thead>\n",
       "  <tbody>\n",
       "    <tr>\n",
       "      <th>0</th>\n",
       "      <td>Kentucky Brunch Brand Stout</td>\n",
       "      <td>i didnt think i was going to give it a perfect...</td>\n",
       "      <td>5.00</td>\n",
       "      <td>[didnt, think, going, give, perfect, score, lo...</td>\n",
       "      <td>2</td>\n",
       "      <td>0</td>\n",
       "      <td>0</td>\n",
       "      <td>0.57735</td>\n",
       "      <td>(Positive, 0.9612)</td>\n",
       "      <td>Positive</td>\n",
       "      <td>0.9612</td>\n",
       "      <td>0.405821</td>\n",
       "      <td>0.102065</td>\n",
       "      <td>0.483786</td>\n",
       "    </tr>\n",
       "    <tr>\n",
       "      <th>1</th>\n",
       "      <td>Kentucky Brunch Brand Stout</td>\n",
       "      <td>so i just read a review that called the legend...</td>\n",
       "      <td>3.79</td>\n",
       "      <td>[read, review, called, legendary, kbbs, “, typ...</td>\n",
       "      <td>0</td>\n",
       "      <td>0</td>\n",
       "      <td>0</td>\n",
       "      <td>0.00000</td>\n",
       "      <td>(Positive, 0.9968)</td>\n",
       "      <td>Positive</td>\n",
       "      <td>0.9968</td>\n",
       "      <td>0.378481</td>\n",
       "      <td>0.133472</td>\n",
       "      <td>0.453290</td>\n",
       "    </tr>\n",
       "    <tr>\n",
       "      <th>2</th>\n",
       "      <td>Kentucky Brunch Brand Stout</td>\n",
       "      <td>2021 vintage bottle 79 holy fucking shit kbbs ...</td>\n",
       "      <td>4.64</td>\n",
       "      <td>[2021, vintage, bottle, 79, holy, fucking, shi...</td>\n",
       "      <td>1</td>\n",
       "      <td>0</td>\n",
       "      <td>0</td>\n",
       "      <td>0.57735</td>\n",
       "      <td>(Positive, 0.9846)</td>\n",
       "      <td>Positive</td>\n",
       "      <td>0.9846</td>\n",
       "      <td>0.454938</td>\n",
       "      <td>0.187034</td>\n",
       "      <td>0.480563</td>\n",
       "    </tr>\n",
       "    <tr>\n",
       "      <th>3</th>\n",
       "      <td>Kentucky Brunch Brand Stout</td>\n",
       "      <td>celebrating my buddy rug with his 1000th beer ...</td>\n",
       "      <td>4.27</td>\n",
       "      <td>[celebrating, buddy, rug, 1000th, beer, review...</td>\n",
       "      <td>0</td>\n",
       "      <td>0</td>\n",
       "      <td>0</td>\n",
       "      <td>0.00000</td>\n",
       "      <td>(Positive, 0.9679)</td>\n",
       "      <td>Positive</td>\n",
       "      <td>0.9679</td>\n",
       "      <td>0.466890</td>\n",
       "      <td>0.190951</td>\n",
       "      <td>0.436962</td>\n",
       "    </tr>\n",
       "    <tr>\n",
       "      <th>4</th>\n",
       "      <td>Kentucky Brunch Brand Stout</td>\n",
       "      <td>thick and syrupy pour mocha head aroma is booz...</td>\n",
       "      <td>4.79</td>\n",
       "      <td>[thick, syrupy, pour, mocha, head, aroma, booz...</td>\n",
       "      <td>0</td>\n",
       "      <td>0</td>\n",
       "      <td>0</td>\n",
       "      <td>0.00000</td>\n",
       "      <td>(Positive, 0.8225)</td>\n",
       "      <td>Positive</td>\n",
       "      <td>0.8225</td>\n",
       "      <td>0.466242</td>\n",
       "      <td>0.234681</td>\n",
       "      <td>0.390799</td>\n",
       "    </tr>\n",
       "  </tbody>\n",
       "</table>\n",
       "</div>"
      ],
      "text/plain": [
       "                  product_name  \\\n",
       "0  Kentucky Brunch Brand Stout   \n",
       "1  Kentucky Brunch Brand Stout   \n",
       "2  Kentucky Brunch Brand Stout   \n",
       "3  Kentucky Brunch Brand Stout   \n",
       "4  Kentucky Brunch Brand Stout   \n",
       "\n",
       "                                      product_review  user_rating  \\\n",
       "0  i didnt think i was going to give it a perfect...         5.00   \n",
       "1  so i just read a review that called the legend...         3.79   \n",
       "2  2021 vintage bottle 79 holy fucking shit kbbs ...         4.64   \n",
       "3  celebrating my buddy rug with his 1000th beer ...         4.27   \n",
       "4  thick and syrupy pour mocha head aroma is booz...         4.79   \n",
       "\n",
       "                                     tokenized_words  taste  malt  hop  \\\n",
       "0  [didnt, think, going, give, perfect, score, lo...      2     0    0   \n",
       "1  [read, review, called, legendary, kbbs, “, typ...      0     0    0   \n",
       "2  [2021, vintage, bottle, 79, holy, fucking, shi...      1     0    0   \n",
       "3  [celebrating, buddy, rug, 1000th, beer, review...      0     0    0   \n",
       "4  [thick, syrupy, pour, mocha, head, aroma, booz...      0     0    0   \n",
       "\n",
       "   similarity_score         vader_score sentiment  compound_score  \\\n",
       "0           0.57735  (Positive, 0.9612)  Positive          0.9612   \n",
       "1           0.00000  (Positive, 0.9968)  Positive          0.9968   \n",
       "2           0.57735  (Positive, 0.9846)  Positive          0.9846   \n",
       "3           0.00000  (Positive, 0.9679)  Positive          0.9679   \n",
       "4           0.00000  (Positive, 0.8225)  Positive          0.8225   \n",
       "\n",
       "   sim_score_taste  sim_score_malt  sim_score_hop  \n",
       "0         0.405821        0.102065       0.483786  \n",
       "1         0.378481        0.133472       0.453290  \n",
       "2         0.454938        0.187034       0.480563  \n",
       "3         0.466890        0.190951       0.436962  \n",
       "4         0.466242        0.234681       0.390799  "
      ]
     },
     "execution_count": 290,
     "metadata": {},
     "output_type": "execute_result"
    }
   ],
   "source": [
    "nlp = spacy.load('en_core_web_md')\n",
    "att1 = productList[0]\n",
    "att2 = productList[1]\n",
    "att3 = productList[2]\n",
    "\n",
    "def calculate_similarity(review, att):\n",
    "    review_word2vec = nlp(review)\n",
    "    sim_score = review_word2vec.similarity(nlp(att))\n",
    "    return sim_score\n",
    "\n",
    "beer_reviews['sim_score_'+att1] = beer_reviews['product_review'].apply(lambda x: calculate_similarity(x,att1))\n",
    "beer_reviews['sim_score_'+att2] = beer_reviews['product_review'].apply(lambda x: calculate_similarity(x,att2))\n",
    "beer_reviews['sim_score_'+att3] = beer_reviews['product_review'].apply(lambda x: calculate_similarity(x,att3))\n",
    "beer_reviews.head()"
   ]
  },
  {
   "cell_type": "code",
   "execution_count": 291,
   "id": "3ce5af80",
   "metadata": {},
   "outputs": [
    {
     "name": "stderr",
     "output_type": "stream",
     "text": [
      "/Users/dishagandhi/opt/anaconda3/lib/python3.7/site-packages/ipykernel_launcher.py:1: FutureWarning: Indexing with multiple keys (implicitly converted to a tuple of keys) will be deprecated, use a list instead.\n",
      "  \"\"\"Entry point for launching an IPython kernel.\n"
     ]
    },
    {
     "data": {
      "text/html": [
       "<div>\n",
       "<style scoped>\n",
       "    .dataframe tbody tr th:only-of-type {\n",
       "        vertical-align: middle;\n",
       "    }\n",
       "\n",
       "    .dataframe tbody tr th {\n",
       "        vertical-align: top;\n",
       "    }\n",
       "\n",
       "    .dataframe thead th {\n",
       "        text-align: right;\n",
       "    }\n",
       "</style>\n",
       "<table border=\"1\" class=\"dataframe\">\n",
       "  <thead>\n",
       "    <tr style=\"text-align: right;\">\n",
       "      <th></th>\n",
       "      <th>product_name</th>\n",
       "      <th>sim_score_taste</th>\n",
       "      <th>sim_score_malt</th>\n",
       "      <th>sim_score_hop</th>\n",
       "      <th>spacy_similarity_score</th>\n",
       "    </tr>\n",
       "  </thead>\n",
       "  <tbody>\n",
       "    <tr>\n",
       "      <th>0</th>\n",
       "      <td>Lou Pepe - Kriek</td>\n",
       "      <td>0.548038</td>\n",
       "      <td>0.246700</td>\n",
       "      <td>0.393944</td>\n",
       "      <td>0.396227</td>\n",
       "    </tr>\n",
       "    <tr>\n",
       "      <th>1</th>\n",
       "      <td>All That Is And All That Ever Will Be</td>\n",
       "      <td>0.537319</td>\n",
       "      <td>0.270865</td>\n",
       "      <td>0.380015</td>\n",
       "      <td>0.396066</td>\n",
       "    </tr>\n",
       "    <tr>\n",
       "      <th>2</th>\n",
       "      <td>Pressed - Stroopwafel</td>\n",
       "      <td>0.517977</td>\n",
       "      <td>0.262370</td>\n",
       "      <td>0.399232</td>\n",
       "      <td>0.393193</td>\n",
       "    </tr>\n",
       "  </tbody>\n",
       "</table>\n",
       "</div>"
      ],
      "text/plain": [
       "                            product_name  sim_score_taste  sim_score_malt  \\\n",
       "0                       Lou Pepe - Kriek         0.548038        0.246700   \n",
       "1  All That Is And All That Ever Will Be         0.537319        0.270865   \n",
       "2                  Pressed - Stroopwafel         0.517977        0.262370   \n",
       "\n",
       "   sim_score_hop  spacy_similarity_score  \n",
       "0       0.393944                0.396227  \n",
       "1       0.380015                0.396066  \n",
       "2       0.399232                0.393193  "
      ]
     },
     "execution_count": 291,
     "metadata": {},
     "output_type": "execute_result"
    }
   ],
   "source": [
    "reviews_spacy = beer_reviews.groupby('product_name')['sim_score_'+att1,'sim_score_'+att2,'sim_score_'+att3].mean().reset_index()\n",
    "reviews_spacy['spacy_similarity_score'] = (reviews_spacy['sim_score_'+att1] + reviews_spacy['sim_score_'+att2] + reviews_spacy['sim_score_'+att3])/3  \n",
    "reviews_spacy = reviews_spacy.sort_values(by = 'spacy_similarity_score', ascending=False, ignore_index=True)\n",
    "\n",
    "reviews_spacy.head(3)"
   ]
  },
  {
   "cell_type": "code",
   "execution_count": 292,
   "id": "fafdf367",
   "metadata": {},
   "outputs": [
    {
     "name": "stdout",
     "output_type": "stream",
     "text": [
      "The top 3 recommendations based on Word Vectors similarity scores are: \n",
      "1.Lou Pepe - Kriek\n",
      "2.All That Is And All That Ever Will Be \n",
      "3.Pressed - Stroopwafel\n"
     ]
    }
   ],
   "source": [
    "print(f\"The top 3 recommendations based on Word Vectors similarity scores are: \\n1.{reviews_spacy.product_name[0]}\\n2.{reviews_spacy.product_name[1]} \\n3.{reviews_spacy.product_name[2]}\")"
   ]
  },
  {
   "cell_type": "code",
   "execution_count": 293,
   "id": "757fa43a",
   "metadata": {},
   "outputs": [
    {
     "data": {
      "text/html": [
       "<div>\n",
       "<style scoped>\n",
       "    .dataframe tbody tr th:only-of-type {\n",
       "        vertical-align: middle;\n",
       "    }\n",
       "\n",
       "    .dataframe tbody tr th {\n",
       "        vertical-align: top;\n",
       "    }\n",
       "\n",
       "    .dataframe thead th {\n",
       "        text-align: right;\n",
       "    }\n",
       "</style>\n",
       "<table border=\"1\" class=\"dataframe\">\n",
       "  <thead>\n",
       "    <tr style=\"text-align: right;\">\n",
       "      <th></th>\n",
       "      <th>product_name</th>\n",
       "      <th>sim_score_taste</th>\n",
       "      <th>sim_score_malt</th>\n",
       "      <th>sim_score_hop</th>\n",
       "      <th>spacy_similarity_score</th>\n",
       "      <th>compound_score</th>\n",
       "      <th>spacy evaluation score</th>\n",
       "    </tr>\n",
       "  </thead>\n",
       "  <tbody>\n",
       "    <tr>\n",
       "      <th>0</th>\n",
       "      <td>Double Shot</td>\n",
       "      <td>0.482421</td>\n",
       "      <td>0.225609</td>\n",
       "      <td>0.405515</td>\n",
       "      <td>0.371182</td>\n",
       "      <td>0.963333</td>\n",
       "      <td>1.334515</td>\n",
       "    </tr>\n",
       "    <tr>\n",
       "      <th>1</th>\n",
       "      <td>Aurelian Lure</td>\n",
       "      <td>0.470207</td>\n",
       "      <td>0.215274</td>\n",
       "      <td>0.419829</td>\n",
       "      <td>0.368437</td>\n",
       "      <td>0.961700</td>\n",
       "      <td>1.330137</td>\n",
       "    </tr>\n",
       "    <tr>\n",
       "      <th>2</th>\n",
       "      <td>Red Eye November</td>\n",
       "      <td>0.473736</td>\n",
       "      <td>0.235932</td>\n",
       "      <td>0.384817</td>\n",
       "      <td>0.364828</td>\n",
       "      <td>0.960250</td>\n",
       "      <td>1.325078</td>\n",
       "    </tr>\n",
       "  </tbody>\n",
       "</table>\n",
       "</div>"
      ],
      "text/plain": [
       "       product_name  sim_score_taste  sim_score_malt  sim_score_hop  \\\n",
       "0       Double Shot         0.482421        0.225609       0.405515   \n",
       "1     Aurelian Lure         0.470207        0.215274       0.419829   \n",
       "2  Red Eye November         0.473736        0.235932       0.384817   \n",
       "\n",
       "   spacy_similarity_score  compound_score  spacy evaluation score  \n",
       "0                0.371182        0.963333                1.334515  \n",
       "1                0.368437        0.961700                1.330137  \n",
       "2                0.364828        0.960250                1.325078  "
      ]
     },
     "execution_count": 293,
     "metadata": {},
     "output_type": "execute_result"
    }
   ],
   "source": [
    "recommended_spacy = reviews_spacy.merge(sentiment_avg, on='product_name')\n",
    "recommended_spacy['spacy evaluation score'] = (recommended_spacy['spacy_similarity_score']+recommended_spacy['compound_score'])\n",
    "recommended_spacy = recommended_spacy.sort_values('spacy evaluation score', ascending=False, ignore_index=True)\n",
    "recommended_spacy.head(3)"
   ]
  },
  {
   "cell_type": "code",
   "execution_count": 294,
   "id": "832dc1de",
   "metadata": {},
   "outputs": [
    {
     "name": "stdout",
     "output_type": "stream",
     "text": [
      "The top 3 recommendations based on Word Vectors similarity combined with sentiment scores are:\n",
      "1. Double Shot \n",
      "2. Aurelian Lure \n",
      "3. Red Eye November\n"
     ]
    }
   ],
   "source": [
    "print(f\"The top 3 recommendations based on Word Vectors similarity combined with sentiment scores are:\\n1. {recommended_spacy.product_name[0]} \\n2. {recommended_spacy.product_name[1]} \\n3. {recommended_spacy.product_name[2]}\")"
   ]
  },
  {
   "cell_type": "markdown",
   "id": "1f215244",
   "metadata": {},
   "source": [
    "**Comparing Recommendations from Bag of Words and Word Vectors:**\n",
    "The recommendations from Word Vectors using spacy package are very different from the one using bag-of words cosine similarity. The word vectors suggest that for the top 3 attributes : taste, malt and hop, the best recommendations for the consumer is **Double Shot, Aurelian Lure, Red Eye November** in the same order. Although, Bag of words suggested that the best beers on these attributes are **Export Lager, Prince Percy, Everett.**\n",
    "This means that for the same dataset the cosine similarity can be varied in bag of words and word vectors methods."
   ]
  },
  {
   "cell_type": "markdown",
   "id": "389da2ba",
   "metadata": {},
   "source": [
    "## TASK-G"
   ]
  },
  {
   "cell_type": "markdown",
   "id": "ba3295bc",
   "metadata": {},
   "source": [
    "#### How would your recommendations differ if you ignored the similarity and feature sentiment scores and simply chose the 3 highest rated products from your entire dataset? Would these products meet the requirements of the user looking for recommendations? Why or why not? Justify your answer with analysis. Use the similarity and sentiment scores as well as overall ratings to answer this question. "
   ]
  },
  {
   "cell_type": "code",
   "execution_count": 295,
   "id": "5c8a3b9e",
   "metadata": {},
   "outputs": [
    {
     "data": {
      "text/plain": [
       "product_name\n",
       "The Adjunct Trail - Bourbon Barrel-Aged    4.930000\n",
       "Chemtrailmix - Rye Barrel                  4.880000\n",
       "Twice the Daily Serving: Raspberry         4.833333\n",
       "Name: user_rating, dtype: float64"
      ]
     },
     "execution_count": 295,
     "metadata": {},
     "output_type": "execute_result"
    }
   ],
   "source": [
    "beer_reviews[\"user_rating\"] = beer_reviews[\"user_rating\"].astype(\"float\")\n",
    "beer_ratings_average = beer_reviews.groupby([\"product_name\"])[\"user_rating\"].agg(\"mean\").sort_values(ascending = False)[:3]\n",
    "beer_ratings_average"
   ]
  },
  {
   "cell_type": "code",
   "execution_count": 296,
   "id": "589eb194",
   "metadata": {},
   "outputs": [
    {
     "name": "stdout",
     "output_type": "stream",
     "text": [
      "Top 3 recommendations based on Ratings would be The Adjunct Trail - Bourbon Barrel-Aged, Chemtrailmix - Rye Barrel, Twice the Daily Serving: Raspberry\n"
     ]
    }
   ],
   "source": [
    "print('Top 3 recommendations based on Ratings would be {}'.format(', '.join(beer_ratings_average.index.tolist())))"
   ]
  },
  {
   "cell_type": "markdown",
   "id": "eca98551",
   "metadata": {},
   "source": [
    "We can clearly observe that if we were to just recommend products to our users based on ratings then that recommendations would be very different from the ones we would have done using **Bag of Words** approach. If we look at the rankings of the above beers observed from ratings based ranking then we can see that they rank **546**, **534**, **419** respectively in Bag of Words. They are like entirely opposite in ranking in both cases and hence both the rankings are so disproportionate to even recommend to the user."
   ]
  },
  {
   "cell_type": "code",
   "execution_count": 297,
   "id": "405286b9",
   "metadata": {},
   "outputs": [
    {
     "data": {
      "text/html": [
       "<div>\n",
       "<style scoped>\n",
       "    .dataframe tbody tr th:only-of-type {\n",
       "        vertical-align: middle;\n",
       "    }\n",
       "\n",
       "    .dataframe tbody tr th {\n",
       "        vertical-align: top;\n",
       "    }\n",
       "\n",
       "    .dataframe thead th {\n",
       "        text-align: right;\n",
       "    }\n",
       "</style>\n",
       "<table border=\"1\" class=\"dataframe\">\n",
       "  <thead>\n",
       "    <tr style=\"text-align: right;\">\n",
       "      <th></th>\n",
       "      <th>product_name</th>\n",
       "      <th>evaluation_score</th>\n",
       "    </tr>\n",
       "  </thead>\n",
       "  <tbody>\n",
       "    <tr>\n",
       "      <th>419</th>\n",
       "      <td>Twice the Daily Serving: Raspberry</td>\n",
       "      <td>0.568626</td>\n",
       "    </tr>\n",
       "    <tr>\n",
       "      <th>534</th>\n",
       "      <td>Chemtrailmix - Rye Barrel</td>\n",
       "      <td>0.378250</td>\n",
       "    </tr>\n",
       "    <tr>\n",
       "      <th>546</th>\n",
       "      <td>The Adjunct Trail - Bourbon Barrel-Aged</td>\n",
       "      <td>0.148000</td>\n",
       "    </tr>\n",
       "  </tbody>\n",
       "</table>\n",
       "</div>"
      ],
      "text/plain": [
       "                                product_name  evaluation_score\n",
       "419       Twice the Daily Serving: Raspberry          0.568626\n",
       "534                Chemtrailmix - Rye Barrel          0.378250\n",
       "546  The Adjunct Trail - Bourbon Barrel-Aged          0.148000"
      ]
     },
     "execution_count": 297,
     "metadata": {},
     "output_type": "execute_result"
    }
   ],
   "source": [
    "recommended[recommended[\"product_name\"].apply(lambda x: x in beer_ratings_average)][[\"product_name\",\"evaluation_score\"]]"
   ]
  },
  {
   "cell_type": "markdown",
   "id": "1fa65d0e",
   "metadata": {},
   "source": [
    "If we look at the rank of the same beers in the ranking recommended by **Word Embeddings** pre trained model we can observe that the same beers are ranked **539**,**350**,**292** respectively. We can see that the ranking in Word Embeddings model is better than the Bag of Words model but again it can also depend on the case we have in hand. But when compared with ranking based on ratings we can see that even here the ranking is entirely opposite to what ratings based ranking convey."
   ]
  },
  {
   "cell_type": "code",
   "execution_count": 298,
   "id": "c7800f6e",
   "metadata": {},
   "outputs": [
    {
     "data": {
      "text/html": [
       "<div>\n",
       "<style scoped>\n",
       "    .dataframe tbody tr th:only-of-type {\n",
       "        vertical-align: middle;\n",
       "    }\n",
       "\n",
       "    .dataframe tbody tr th {\n",
       "        vertical-align: top;\n",
       "    }\n",
       "\n",
       "    .dataframe thead th {\n",
       "        text-align: right;\n",
       "    }\n",
       "</style>\n",
       "<table border=\"1\" class=\"dataframe\">\n",
       "  <thead>\n",
       "    <tr style=\"text-align: right;\">\n",
       "      <th></th>\n",
       "      <th>product_name</th>\n",
       "      <th>spacy evaluation score</th>\n",
       "    </tr>\n",
       "  </thead>\n",
       "  <tbody>\n",
       "    <tr>\n",
       "      <th>292</th>\n",
       "      <td>Twice the Daily Serving: Raspberry</td>\n",
       "      <td>1.142085</td>\n",
       "    </tr>\n",
       "    <tr>\n",
       "      <th>350</th>\n",
       "      <td>Chemtrailmix - Rye Barrel</td>\n",
       "      <td>1.103382</td>\n",
       "    </tr>\n",
       "    <tr>\n",
       "      <th>539</th>\n",
       "      <td>The Adjunct Trail - Bourbon Barrel-Aged</td>\n",
       "      <td>0.632347</td>\n",
       "    </tr>\n",
       "  </tbody>\n",
       "</table>\n",
       "</div>"
      ],
      "text/plain": [
       "                                product_name  spacy evaluation score\n",
       "292       Twice the Daily Serving: Raspberry                1.142085\n",
       "350                Chemtrailmix - Rye Barrel                1.103382\n",
       "539  The Adjunct Trail - Bourbon Barrel-Aged                0.632347"
      ]
     },
     "execution_count": 298,
     "metadata": {},
     "output_type": "execute_result"
    }
   ],
   "source": [
    "recommended_spacy[recommended_spacy[\"product_name\"].apply(lambda x: x in beer_ratings_average)][[\"product_name\",\"spacy evaluation score\"]]"
   ]
  },
  {
   "cell_type": "markdown",
   "id": "ca6af1b5",
   "metadata": {},
   "source": [
    "Hence we should not conclude the recommendations to user based on ratings alone. We need to process the text using some vectorization approaches or pre trained models to set some context which is missing when only considering user defined features.\n",
    "This also helps us in providing **recommendations to the user which is genuine and comprehensive** and has some intelligence behind it rather than just simply suggesting them based on **ratings which might not always be genuine.**"
   ]
  },
  {
   "cell_type": "markdown",
   "id": "2d3899cf",
   "metadata": {},
   "source": [
    "## TASK-H"
   ]
  },
  {
   "cell_type": "markdown",
   "id": "74bf27a4",
   "metadata": {},
   "source": [
    "#### Using the top four attributes of beer (from word frequency analysis), calculate the lifts between these attributes and any 10 beers in your data. Choose one beer, and find the most similar beer (among the remaining 9) using the lift values. Explain your method. "
   ]
  },
  {
   "cell_type": "code",
   "execution_count": 299,
   "id": "595a6c96",
   "metadata": {},
   "outputs": [],
   "source": [
    "#Initializing Required Variables\n",
    "base_df = beer_reviews.copy()\n",
    "top4_att = top_10_attributes[:4]\n",
    "any_10_beers = base_df['product_name'].sample(n=10, random_state=53)\n",
    "lift_table = pd.DataFrame(columns = top4_att,index = any_10_beers)\n",
    "base_df[\"word_unique\"] = base_df[\"tokenized_words\"].apply(lambda x: sorted(set(x)))"
   ]
  },
  {
   "cell_type": "code",
   "execution_count": 300,
   "id": "8c1e936e",
   "metadata": {},
   "outputs": [],
   "source": [
    "#Function definition for calculating Lift \n",
    "def lift_analysis(a, b, message_tokens):\n",
    "    freq_a = 0\n",
    "    freq_b = 0\n",
    "    freq_a_b = 0\n",
    "    n = len(message_tokens)\n",
    "    for i in message_tokens:\n",
    "        if any(i in a for i in i):\n",
    "            freq_a += 1\n",
    "        if b in i:\n",
    "            freq_b += 1\n",
    "        if any(i in a for i in i) and b in i:\n",
    "            freq_a_b += 1\n",
    "    if freq_a == 0:\n",
    "        return (float(n)*freq_a_b)/(freq_b)\n",
    "    elif freq_b == 0:\n",
    "        return (float(n)*freq_a_b)/(freq_a)\n",
    "    else:\n",
    "        return (float(n)*freq_a_b)/(freq_a*freq_b)"
   ]
  },
  {
   "cell_type": "code",
   "execution_count": 301,
   "id": "e4473b78",
   "metadata": {},
   "outputs": [],
   "source": [
    "#Populating the dataframe with the respective lift values\n",
    "beer_att_lift =pd.DataFrame(columns=['beer','attribute','lift'])\n",
    "i=0\n",
    "for  beer in any_10_beers:\n",
    "    for att in top4_att['Word']:\n",
    "        temp_lift=lift_analysis(str(beer).lower(), str(att).lower(), base_df.word_unique)\n",
    "        beer_att_lift.loc[i]=[str(beer).lower(), str(att).lower(),temp_lift]\n",
    "        i=i+1"
   ]
  },
  {
   "cell_type": "code",
   "execution_count": 302,
   "id": "0c1dcc8e",
   "metadata": {},
   "outputs": [
    {
     "data": {
      "text/html": [
       "<div>\n",
       "<style scoped>\n",
       "    .dataframe tbody tr th:only-of-type {\n",
       "        vertical-align: middle;\n",
       "    }\n",
       "\n",
       "    .dataframe tbody tr th {\n",
       "        vertical-align: top;\n",
       "    }\n",
       "\n",
       "    .dataframe thead tr th {\n",
       "        text-align: left;\n",
       "    }\n",
       "\n",
       "    .dataframe thead tr:last-of-type th {\n",
       "        text-align: right;\n",
       "    }\n",
       "</style>\n",
       "<table border=\"1\" class=\"dataframe\">\n",
       "  <thead>\n",
       "    <tr>\n",
       "      <th></th>\n",
       "      <th colspan=\"4\" halign=\"left\">lift</th>\n",
       "    </tr>\n",
       "    <tr>\n",
       "      <th>attribute</th>\n",
       "      <th>flavor</th>\n",
       "      <th>hop</th>\n",
       "      <th>malt</th>\n",
       "      <th>taste</th>\n",
       "    </tr>\n",
       "    <tr>\n",
       "      <th>beer</th>\n",
       "      <th></th>\n",
       "      <th></th>\n",
       "      <th></th>\n",
       "      <th></th>\n",
       "    </tr>\n",
       "  </thead>\n",
       "  <tbody>\n",
       "    <tr>\n",
       "      <th>appervation</th>\n",
       "      <td>0.762092</td>\n",
       "      <td>1.159172</td>\n",
       "      <td>0.934147</td>\n",
       "      <td>0.997783</td>\n",
       "    </tr>\n",
       "    <tr>\n",
       "      <th>citra</th>\n",
       "      <td>1.397170</td>\n",
       "      <td>2.266825</td>\n",
       "      <td>0.708663</td>\n",
       "      <td>1.089777</td>\n",
       "    </tr>\n",
       "    <tr>\n",
       "      <th>consecration</th>\n",
       "      <td>1.076471</td>\n",
       "      <td>1.528197</td>\n",
       "      <td>1.496952</td>\n",
       "      <td>1.049545</td>\n",
       "    </tr>\n",
       "    <tr>\n",
       "      <th>great</th>\n",
       "      <td>1.078545</td>\n",
       "      <td>1.006967</td>\n",
       "      <td>0.994716</td>\n",
       "      <td>1.102724</td>\n",
       "    </tr>\n",
       "    <tr>\n",
       "      <th>head hunter</th>\n",
       "      <td>1.081267</td>\n",
       "      <td>1.174842</td>\n",
       "      <td>1.219930</td>\n",
       "      <td>1.125998</td>\n",
       "    </tr>\n",
       "    <tr>\n",
       "      <th>obsidian stout</th>\n",
       "      <td>1.160955</td>\n",
       "      <td>0.666185</td>\n",
       "      <td>1.072225</td>\n",
       "      <td>1.043055</td>\n",
       "    </tr>\n",
       "    <tr>\n",
       "      <th>permanent funeral</th>\n",
       "      <td>1.001165</td>\n",
       "      <td>1.253498</td>\n",
       "      <td>1.176649</td>\n",
       "      <td>0.715823</td>\n",
       "    </tr>\n",
       "    <tr>\n",
       "      <th>the rusty nail</th>\n",
       "      <td>1.064510</td>\n",
       "      <td>1.201079</td>\n",
       "      <td>1.189332</td>\n",
       "      <td>0.678497</td>\n",
       "    </tr>\n",
       "    <tr>\n",
       "      <th>ultimate oktoberfest</th>\n",
       "      <td>1.094347</td>\n",
       "      <td>1.208222</td>\n",
       "      <td>1.219977</td>\n",
       "      <td>0.861462</td>\n",
       "    </tr>\n",
       "    <tr>\n",
       "      <th>young's double chocolate stout</th>\n",
       "      <td>1.107050</td>\n",
       "      <td>0.854561</td>\n",
       "      <td>1.154606</td>\n",
       "      <td>0.982216</td>\n",
       "    </tr>\n",
       "  </tbody>\n",
       "</table>\n",
       "</div>"
      ],
      "text/plain": [
       "                                    lift                              \n",
       "attribute                         flavor       hop      malt     taste\n",
       "beer                                                                  \n",
       "appervation                     0.762092  1.159172  0.934147  0.997783\n",
       "citra                           1.397170  2.266825  0.708663  1.089777\n",
       "consecration                    1.076471  1.528197  1.496952  1.049545\n",
       "great                           1.078545  1.006967  0.994716  1.102724\n",
       "head hunter                     1.081267  1.174842  1.219930  1.125998\n",
       "obsidian stout                  1.160955  0.666185  1.072225  1.043055\n",
       "permanent funeral               1.001165  1.253498  1.176649  0.715823\n",
       "the rusty nail                  1.064510  1.201079  1.189332  0.678497\n",
       "ultimate oktoberfest            1.094347  1.208222  1.219977  0.861462\n",
       "young's double chocolate stout  1.107050  0.854561  1.154606  0.982216"
      ]
     },
     "execution_count": 302,
     "metadata": {},
     "output_type": "execute_result"
    }
   ],
   "source": [
    "#Creating Lift Matrix \n",
    "df_temp = beer_att_lift.sort_values('lift',ascending = False).groupby('beer').head(10)\n",
    "lift_matrix = df_temp.pivot(index='beer', columns='attribute')\n",
    "lift_matrix"
   ]
  },
  {
   "cell_type": "code",
   "execution_count": 303,
   "id": "efddeb49",
   "metadata": {},
   "outputs": [
    {
     "data": {
      "text/plain": [
       "'the rusty nail'"
      ]
     },
     "execution_count": 303,
     "metadata": {},
     "output_type": "execute_result"
    }
   ],
   "source": [
    "#Picking one beer\n",
    "our_pick = pd.DataFrame(any_10_beers.values).sample(n=1, random_state=53)\n",
    "our_pick = (our_pick[0].iloc[0]).lower()\n",
    "\n",
    "\n",
    "top_row = lift_matrix.loc[our_pick]\n",
    "our_pick"
   ]
  },
  {
   "cell_type": "code",
   "execution_count": 304,
   "id": "bf579ee3",
   "metadata": {},
   "outputs": [
    {
     "data": {
      "text/plain": [
       "array(['permanent funeral'], dtype=object)"
      ]
     },
     "execution_count": 304,
     "metadata": {},
     "output_type": "execute_result"
    }
   ],
   "source": [
    "diff_matrix = np.square(lift_matrix[1:].values-top_row.values)\n",
    "sum_arr = np.sum(diff_matrix, axis=1)\n",
    "min_index = np.argmin(sum_arr,axis=None,out=None)\n",
    "sum_arr = np.delete(sum_arr, min_index, axis=0)\n",
    "min_index = np.argmin(sum_arr,axis=None,out=None)\n",
    "recco = lift_matrix[min_index+1:min_index+2].index.values\n",
    "recco"
   ]
  },
  {
   "cell_type": "markdown",
   "id": "78f2cd7c",
   "metadata": {},
   "source": [
    "##### The most similar beer based our pick i.e 'The Rusty Nail' is 'Permament Funeral'. The lift values of the beers based on the top four attributes were utilized in order to come up with our recommendation. Digging further we have calculated euclidean distance between the attributes of 'The Rusty Nail' and the attributes of all the other beers and minimized that distance for the sum of all the attributes."
   ]
  },
  {
   "cell_type": "code",
   "execution_count": null,
   "id": "c5a4ca36",
   "metadata": {},
   "outputs": [],
   "source": []
  }
 ],
 "metadata": {
  "colab": {
   "collapsed_sections": [],
   "provenance": []
  },
  "kernelspec": {
   "display_name": "Python 3",
   "language": "python",
   "name": "python3"
  },
  "language_info": {
   "codemirror_mode": {
    "name": "ipython",
    "version": 3
   },
   "file_extension": ".py",
   "mimetype": "text/x-python",
   "name": "python",
   "nbconvert_exporter": "python",
   "pygments_lexer": "ipython3",
   "version": "3.7.6"
  }
 },
 "nbformat": 4,
 "nbformat_minor": 5
}
